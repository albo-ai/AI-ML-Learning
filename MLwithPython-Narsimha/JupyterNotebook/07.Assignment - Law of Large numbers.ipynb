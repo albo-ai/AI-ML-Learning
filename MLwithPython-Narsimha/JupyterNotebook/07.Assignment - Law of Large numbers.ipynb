{
 "cells": [
  {
   "cell_type": "code",
   "execution_count": 6,
   "metadata": {},
   "outputs": [
    {
     "name": "stdout",
     "output_type": "stream",
     "text": [
      "result percentage 68.2087\n"
     ]
    }
   ],
   "source": [
    "import numpy as np\n",
    "from numpy.random import randn\n",
    "counter = 0\n",
    "n = 1000000   # start n=10 then 100 .. 1000 and so on and watch the percentage approching 68%\n",
    "for i in range(n):\n",
    "        var_randn = randn()\n",
    "        if var_randn >= -1 and var_randn <= 1:\n",
    "            counter = counter+1\n",
    "result_pct = (counter/n)*100\n",
    "print(\"result percentage\", result_pct)\n",
    "    "
   ]
  },
  {
   "cell_type": "code",
   "execution_count": null,
   "metadata": {},
   "outputs": [],
   "source": []
  }
 ],
 "metadata": {
  "kernelspec": {
   "display_name": "Python 3",
   "language": "python",
   "name": "python3"
  },
  "language_info": {
   "codemirror_mode": {
    "name": "ipython",
    "version": 3
   },
   "file_extension": ".py",
   "mimetype": "text/x-python",
   "name": "python",
   "nbconvert_exporter": "python",
   "pygments_lexer": "ipython3",
   "version": "3.6.4"
  }
 },
 "nbformat": 4,
 "nbformat_minor": 2
}
