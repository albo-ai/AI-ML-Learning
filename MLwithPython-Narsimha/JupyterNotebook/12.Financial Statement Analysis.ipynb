{
 "cells": [
  {
   "cell_type": "code",
   "execution_count": 28,
   "metadata": {},
   "outputs": [],
   "source": [
    "# input data\n",
    "revenue = [14574.49, 7606.46, 8611.41, 9175.41, 8058.65, 8105.44, 11496.28, 9766.09, 10305.32, 14379.96, 10713.97, 15433.50]\n",
    "\n",
    "expenses = [12051.82, 5695.07, 12319.20, 12089.72, 8658.57, 840.20, 3285.73, 5821.12, 6976.93, 16618.61, 10054.37, 3803.96]"
   ]
  },
  {
   "cell_type": "code",
   "execution_count": 32,
   "metadata": {},
   "outputs": [],
   "source": [
    "# profit for each month\n",
    "profitMonthly = list([])    # creating empty list\n",
    "\n",
    "for i in range(len(revenue)):\n",
    "    profitMonthly.append( round(revenue[i] - expenses[i],2))"
   ]
  },
  {
   "cell_type": "code",
   "execution_count": 33,
   "metadata": {},
   "outputs": [
    {
     "data": {
      "text/plain": [
       "[2522.67,\n",
       " 1911.39,\n",
       " -3707.79,\n",
       " -2914.31,\n",
       " -599.92,\n",
       " 7265.24,\n",
       " 8210.55,\n",
       " 3944.97,\n",
       " 3328.39,\n",
       " -2238.65,\n",
       " 659.6,\n",
       " 11629.54]"
      ]
     },
     "execution_count": 33,
     "metadata": {},
     "output_type": "execute_result"
    }
   ],
   "source": [
    "profitMonthly"
   ]
  },
  {
   "cell_type": "code",
   "execution_count": 37,
   "metadata": {},
   "outputs": [],
   "source": [
    "# profit after tax for each month (the tax rate is 30%)\n",
    "\n",
    "profitMonthlyTaxed = list(range(12))\n",
    "for j in range(len(profitMonthly)):\n",
    "    profitMonthlyTaxed[j] = round(profitMonthly[j] - (profitMonthly[j]*0.3),2)"
   ]
  },
  {
   "cell_type": "code",
   "execution_count": 51,
   "metadata": {},
   "outputs": [
    {
     "data": {
      "text/plain": [
       "[1765.87,\n",
       " 1337.97,\n",
       " -2595.45,\n",
       " -2040.02,\n",
       " -419.94,\n",
       " 5085.67,\n",
       " 5747.39,\n",
       " 2761.48,\n",
       " 2329.87,\n",
       " -1567.06,\n",
       " 461.72,\n",
       " 8140.68]"
      ]
     },
     "execution_count": 51,
     "metadata": {},
     "output_type": "execute_result"
    }
   ],
   "source": [
    "#alternative way of creating a list same as above\n",
    "\n",
    "profitMonthlyTaxedtest = [ round(j - (j*0.3),2) for j in profitMonthly]\n",
    "profitMonthlyTaxedtest\n"
   ]
  },
  {
   "cell_type": "code",
   "execution_count": null,
   "metadata": {},
   "outputs": [],
   "source": []
  },
  {
   "cell_type": "code",
   "execution_count": 38,
   "metadata": {},
   "outputs": [
    {
     "data": {
      "text/plain": [
       "[1765.87,\n",
       " 1337.97,\n",
       " -2595.45,\n",
       " -2040.02,\n",
       " -419.94,\n",
       " 5085.67,\n",
       " 5747.39,\n",
       " 2761.48,\n",
       " 2329.87,\n",
       " -1567.06,\n",
       " 461.72,\n",
       " 8140.68]"
      ]
     },
     "execution_count": 38,
     "metadata": {},
     "output_type": "execute_result"
    }
   ],
   "source": [
    "profitMonthlyTaxed"
   ]
  },
  {
   "cell_type": "code",
   "execution_count": 48,
   "metadata": {},
   "outputs": [
    {
     "data": {
      "text/plain": [
       "[12, 18, -30, -22, -5, 63, 50, 28, 23, -11, 4, 53]"
      ]
     },
     "execution_count": 48,
     "metadata": {},
     "output_type": "execute_result"
    }
   ],
   "source": [
    "# profit margin for each month - equals to profit after tax divided by revenue\n",
    "\n",
    "profitMarginMonthly = list([])\n",
    "\n",
    "for i in range(len(profitMonthlyTaxed)):\n",
    "    profitMarginMonthly.append(round((profitMonthlyTaxed[i]/revenue[i])*100))\n",
    "\n",
    "profitMarginMonthly"
   ]
  },
  {
   "cell_type": "code",
   "execution_count": 41,
   "metadata": {},
   "outputs": [
    {
     "data": {
      "text/plain": [
       "[True, False, False, False, False, True, True, True, True, False, False, True]"
      ]
     },
     "execution_count": 41,
     "metadata": {},
     "output_type": "execute_result"
    }
   ],
   "source": [
    "# good months - where the profit after tax was greater than the mean for the year\n",
    "meanYear = round(sum(profitMonthlyTaxed[:])/len(profitMonthlyTaxed))\n",
    "good_months = list([ ])\n",
    "for i in range(len(profitMonthlyTaxed)):\n",
    "    good_months.append(profitMonthlyTaxed[i] > meanYear)\n",
    "good_months    "
   ]
  },
  {
   "cell_type": "code",
   "execution_count": 43,
   "metadata": {},
   "outputs": [
    {
     "data": {
      "text/plain": [
       "[False, True, True, True, True, False, False, False, False, True, True, False]"
      ]
     },
     "execution_count": 43,
     "metadata": {},
     "output_type": "execute_result"
    }
   ],
   "source": [
    "# bad months - where the profit after tax was less than the mean for the year\n",
    "\n",
    "bad_months = list([ ])\n",
    "for j in range(len(profitMonthlyTaxed)):\n",
    "    bad_months.append(profitMonthlyTaxed[j] < meanYear)\n",
    "bad_months  "
   ]
  },
  {
   "cell_type": "code",
   "execution_count": 45,
   "metadata": {},
   "outputs": [
    {
     "data": {
      "text/plain": [
       "[False,\n",
       " False,\n",
       " False,\n",
       " False,\n",
       " False,\n",
       " False,\n",
       " False,\n",
       " False,\n",
       " False,\n",
       " False,\n",
       " False,\n",
       " True]"
      ]
     },
     "execution_count": 45,
     "metadata": {},
     "output_type": "execute_result"
    }
   ],
   "source": [
    "# the best month - where the profit after tax was max for the year\n",
    "best_month = list([ ])\n",
    "\n",
    "for k in range(len(profitMonthlyTaxed)):\n",
    "    best_month.append(profitMonthlyTaxed[k] == max(profitMonthlyTaxed) )\n",
    "best_month"
   ]
  },
  {
   "cell_type": "code",
   "execution_count": 50,
   "metadata": {},
   "outputs": [
    {
     "data": {
      "text/plain": [
       "[False,\n",
       " False,\n",
       " True,\n",
       " False,\n",
       " False,\n",
       " False,\n",
       " False,\n",
       " False,\n",
       " False,\n",
       " False,\n",
       " False,\n",
       " False]"
      ]
     },
     "execution_count": 50,
     "metadata": {},
     "output_type": "execute_result"
    }
   ],
   "source": [
    "# - the worst month - where the profit after tax was min for the year\n",
    "\n",
    "worst_month = list([ ])\n",
    "\n",
    "for k in range(len(profitMonthlyTaxed)):\n",
    "    worst_month.append(profitMonthlyTaxed[k] == min(profitMonthlyTaxed) )\n",
    "worst_month"
   ]
  },
  {
   "cell_type": "code",
   "execution_count": null,
   "metadata": {},
   "outputs": [],
   "source": []
  },
  {
   "cell_type": "code",
   "execution_count": null,
   "metadata": {},
   "outputs": [],
   "source": []
  }
 ],
 "metadata": {
  "kernelspec": {
   "display_name": "Python 3",
   "language": "python",
   "name": "python3"
  },
  "language_info": {
   "codemirror_mode": {
    "name": "ipython",
    "version": 3
   },
   "file_extension": ".py",
   "mimetype": "text/x-python",
   "name": "python",
   "nbconvert_exporter": "python",
   "pygments_lexer": "ipython3",
   "version": "3.6.4"
  }
 },
 "nbformat": 4,
 "nbformat_minor": 2
}
