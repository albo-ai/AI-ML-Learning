{
 "cells": [
  {
   "cell_type": "code",
   "execution_count": 3,
   "metadata": {},
   "outputs": [],
   "source": [
    "#FootBallGameData\n",
    "#Instructions for this dataset:\n",
    "# Simply copy ALL the lines in this script by pressing \n",
    "# CTRL+A on Windows \n",
    "# Once you have executed the commands the following objects\n",
    "# will be created:\n",
    "# Matrices:\n",
    "# - Salary\n",
    "# - Games\n",
    "# - MinutesPlayed\n",
    "# - FieldGoals\n",
    "# - FieldGoalAttempts\n",
    "# - Points\n",
    "# Lists:\n",
    "# - Players\n",
    "# - Seasons\n",
    "# Dictionaries:\n",
    "# - Sdict\n",
    "# - Pdict\n",
    "\n",
    "#Comments:\n",
    "#Seasons are labeled based on the first year in the season\n",
    "#E.g. the 2012-2013 season is preseneted as simply 2012\n",
    "\n",
    "\n",
    "#Import numpy\n",
    "import numpy as np\n",
    "\n",
    "#Seasons\n",
    "Seasons = [\"2005\",\"2006\",\"2007\",\"2008\",\"2009\",\"2010\",\"2011\",\"2012\",\"2013\",\"2014\"]\n",
    "Sdict = {\"2005\":0,\"2006\":1,\"2007\":2,\"2008\":3,\"2009\":4,\"2010\":5,\"2011\":6,\"2012\":7,\"2013\":8,\"2014\":9}\n",
    "\n",
    "#Players\n",
    "Players = [\"David\",\"Joe\",\"James\",\"Anthony\",\"Danny\",\"Chris\",\"Paul\",\"Kevin\",\"Derrick\",\"Dwayne\"]\n",
    "Pdict = {\"David\":0,\"Joe\":1,\"James\":2,\"Anthony\":3,\"Danny\":4,\"Chris\":5,\"Paul\":6,\"Kevin\":7,\"Derrick\":8,\"Dwayne\":9}\n",
    "\n",
    "#Salaries\n",
    "David_Salary = [15946875,17718750,19490625,21262500,23034375,24806250,25244493,27849149,30453805,23500000]\n",
    "Joe_Salary = [12000000,12744189,13488377,14232567,14976754,16324500,18038573,19752645,21466718,23180790]\n",
    "James_Salary = [4621800,5828090,13041250,14410581,15779912,14500000,16022500,17545000,19067500,20644400]\n",
    "Anthony_Salary = [3713640,4694041,13041250,14410581,15779912,17149243,18518574,19450000,22407474,22458000]\n",
    "Danny_Salary = [4493160,4806720,6061274,13758000,15202590,16647180,18091770,19536360,20513178,21436271]\n",
    "Chris_Salary = [3348000,4235220,12455000,14410581,15779912,14500000,16022500,17545000,19067500,20644400]\n",
    "Paul_Salary = [3144240,3380160,3615960,4574189,13520500,14940153,16359805,17779458,18668431,20068563]\n",
    "Kevin_Salary = [0,0,4171200,4484040,4796880,6053663,15506632,16669630,17832627,18995624]\n",
    "Derrick_Salary = [0,0,0,4822800,5184480,5546160,6993708,16402500,17632688,18862875]\n",
    "Dwayne_Salary = [3031920,3841443,13041250,14410581,15779912,14200000,15691000,17182000,18673000,15000000]\n",
    "#Matrix\n",
    "Salary = np.array([David_Salary, Joe_Salary, James_Salary, Anthony_Salary, Danny_Salary, Chris_Salary, Paul_Salary, Kevin_Salary, Derrick_Salary, Dwayne_Salary])\n",
    "\n",
    "#Games \n",
    "David_G = [80,77,82,82,73,82,58,78,6,35]\n",
    "Joe_G = [82,57,82,79,76,72,60,72,79,80]\n",
    "James_G = [79,78,75,81,76,79,62,76,77,69]\n",
    "Anthony_G = [80,65,77,66,69,77,55,67,77,40]\n",
    "Danny_G = [82,82,82,79,82,78,54,76,71,41]\n",
    "Chris_G = [70,69,67,77,70,77,57,74,79,44]\n",
    "Paul_G = [78,64,80,78,45,80,60,70,62,82]\n",
    "Kevin_G = [35,35,80,74,82,78,66,81,81,27]\n",
    "Derrick_G = [40,40,40,81,78,81,39,0,10,51]\n",
    "Dwayne_G = [75,51,51,79,77,76,49,69,54,62]\n",
    "#Matrix\n",
    "Games = np.array([David_G, Joe_G, James_G, Anthony_G, Danny_G, Chris_G, Paul_G, Kevin_G, Derrick_G, Dwayne_G])\n",
    "\n",
    "#Minutes Played\n",
    "David_MP = [3277,3140,3192,2960,2835,2779,2232,3013,177,1207]\n",
    "Joe_MP = [3340,2359,3343,3124,2886,2554,2127,2642,2575,2791]\n",
    "James_MP = [3361,3190,3027,3054,2966,3063,2326,2877,2902,2493]\n",
    "Anthony_MP = [2941,2486,2806,2277,2634,2751,1876,2482,2982,1428]\n",
    "Danny_MP = [3021,3023,3088,2821,2843,2935,2070,2722,2396,1223]\n",
    "Chris_MP = [2751,2658,2425,2928,2526,2795,2007,2454,2531,1556]\n",
    "Paul_MP = [2808,2353,3006,3002,1712,2880,2181,2335,2171,2857]\n",
    "Kevin_MP = [1255,1255,2768,2885,3239,3038,2546,3119,3122,913]\n",
    "Derrick_MP = [1168,1168,1168,3000,2871,3026,1375,0,311,1530]\n",
    "Dwayne_MP = [2892,1931,1954,3048,2792,2823,1625,2391,1775,1971]\n",
    "#Matrix\n",
    "MinutesPlayed = np.array([David_MP, Joe_MP, James_MP, Anthony_MP, Danny_MP, Chris_MP, Paul_MP, Kevin_MP, Derrick_MP, Dwayne_MP])\n",
    "\n",
    "#Field Goals\n",
    "David_FG = [978,813,775,800,716,740,574,738,31,266]\n",
    "Joe_FG = [632,536,647,620,635,514,423,445,462,446]\n",
    "James_FG = [875,772,794,789,768,758,621,765,767,624]\n",
    "Anthony_FG = [756,691,728,535,688,684,441,669,743,358]\n",
    "Danny_FG = [468,526,583,560,510,619,416,470,473,251]\n",
    "Chris_FG = [549,543,507,615,600,524,393,485,492,343]\n",
    "Paul_FG = [407,381,630,631,314,430,425,412,406,568]\n",
    "Kevin_FG = [306,306,587,661,794,711,643,731,849,238]\n",
    "Derrick_FG = [208,208,208,574,672,711,302,0,58,338]\n",
    "Dwayne_FG = [699,472,439,854,719,692,416,569,415,509]\n",
    "#Matrix\n",
    "FieldGoals  = np.array([David_FG, Joe_FG, James_FG, Anthony_FG, Danny_FG, Chris_FG, Paul_FG, Kevin_FG, Derrick_FG, Dwayne_FG])\n",
    "\n",
    "#Field Goal Attempts\n",
    "David_FGA = [2173,1757,1690,1712,1569,1639,1336,1595,73,713]\n",
    "Joe_FGA = [1395,1139,1497,1420,1386,1161,931,1052,1018,1025]\n",
    "James_FGA = [1823,1621,1642,1613,1528,1485,1169,1354,1353,1279]\n",
    "Anthony_FGA = [1572,1453,1481,1207,1502,1503,1025,1489,1643,806]\n",
    "Danny_FGA = [881,873,974,979,834,1044,726,813,800,423]\n",
    "Chris_FGA = [1087,1094,1027,1263,1158,1056,807,907,953,745]\n",
    "Paul_FGA = [947,871,1291,1255,637,928,890,856,870,1170]\n",
    "Kevin_FGA = [647,647,1366,1390,1668,1538,1297,1433,1688,467]\n",
    "Derrick_FGA = [436,436,436,1208,1373,1597,695,0,164,835]\n",
    "Dwayne_FGA = [1413,962,937,1739,1511,1384,837,1093,761,1084]\n",
    "#Matrix\n",
    "FieldGoalAttempts = np.array([David_FGA, Joe_FGA, James_FGA, Anthony_FGA, Danny_FGA, Chris_FGA, Paul_FGA, Kevin_FGA, Derrick_FGA, Dwayne_FGA])\n",
    "\n",
    "#Points\n",
    "David_PTS = [2832,2430,2323,2201,1970,2078,1616,2133,83,782]\n",
    "Joe_PTS = [1653,1426,1779,1688,1619,1312,1129,1170,1245,1154]\n",
    "James_PTS = [2478,2132,2250,2304,2258,2111,1683,2036,2089,1743]\n",
    "Anthony_PTS = [2122,1881,1978,1504,1943,1970,1245,1920,2112,966]\n",
    "Danny_PTS = [1292,1443,1695,1624,1503,1784,1113,1296,1297,646]\n",
    "Chris_PTS = [1572,1561,1496,1746,1678,1438,1025,1232,1281,928]\n",
    "Paul_PTS = [1258,1104,1684,1781,841,1268,1189,1186,1185,1564]\n",
    "Kevin_PTS = [903,903,1624,1871,2472,2161,1850,2280,2593,686]\n",
    "Derrick_PTS = [597,597,597,1361,1619,2026,852,0,159,904]\n",
    "Dwayne_PTS = [2040,1397,1254,2386,2045,1941,1082,1463,1028,1331]\n",
    "#Matrix\n",
    "Points = np.array([David_PTS, Joe_PTS, James_PTS, Anthony_PTS, Danny_PTS, Chris_PTS, Paul_PTS, Kevin_PTS, Derrick_PTS, Dwayne_PTS])             \n",
    "                  "
   ]
  },
  {
   "cell_type": "code",
   "execution_count": 9,
   "metadata": {},
   "outputs": [
    {
     "data": {
      "text/plain": [
       "numpy.ndarray"
      ]
     },
     "execution_count": 9,
     "metadata": {},
     "output_type": "execute_result"
    }
   ],
   "source": [
    "import warnings\n",
    "warnings.filterwarnings('ignore')\n",
    "goalsPerGame = np.matrix.round(FieldGoals/Games)\n",
    "print(goalsPerGame)\n"
   ]
  },
  {
   "cell_type": "code",
   "execution_count": 11,
   "metadata": {},
   "outputs": [
    {
     "data": {
      "text/plain": [
       "10.0"
      ]
     },
     "execution_count": 11,
     "metadata": {},
     "output_type": "execute_result"
    }
   ],
   "source": [
    "goalsPerGame[Pdict[\"LeBronJames\"]][Sdict[\"2012\"]]"
   ]
  },
  {
   "cell_type": "code",
   "execution_count": 13,
   "metadata": {},
   "outputs": [
    {
     "name": "stdout",
     "output_type": "stream",
     "text": [
      "[[41. 41. 39. 36. 39. 34. 38. 39. 30. 34.]\n",
      " [41. 41. 41. 40. 38. 35. 35. 37. 33. 35.]\n",
      " [43. 41. 40. 38. 39. 39. 38. 38. 38. 36.]\n",
      " [37. 38. 36. 34. 38. 36. 34. 37. 39. 36.]\n",
      " [37. 37. 38. 36. 35. 38. 38. 36. 34. 30.]\n",
      " [39. 39. 36. 38. 36. 36. 35. 33. 32. 35.]\n",
      " [36. 37. 38. 38. 38. 36. 36. 33. 35. 35.]\n",
      " [36. 36. 35. 39. 40. 39. 39. 39. 39. 34.]\n",
      " [29. 29. 29. 37. 37. 37. 35. nan 31. 30.]\n",
      " [39. 38. 38. 39. 36. 37. 33. 35. 33. 32.]]\n"
     ]
    }
   ],
   "source": [
    "minutesPerGame = np.matrix.round(MinutesPlayed/Games)\n",
    "print(minutesPerGame)"
   ]
  },
  {
   "cell_type": "code",
   "execution_count": 20,
   "metadata": {},
   "outputs": [
    {
     "name": "stdout",
     "output_type": "stream",
     "text": [
      "[[45. 46. 46. 47. 46. 45. 43. 46. 42. 37.]\n",
      " [45. 47. 43. 44. 46. 44. 45. 42. 45. 44.]\n",
      " [48. 48. 48. 49. 50. 51. 53. 56. 57. 49.]\n",
      " [48. 48. 49. 44. 46. 46. 43. 45. 45. 44.]\n",
      " [53. 60. 60. 57. 61. 59. 57. 58. 59. 59.]\n",
      " [51. 50. 49. 49. 52. 50. 49. 53. 52. 46.]\n",
      " [43. 44. 49. 50. 49. 46. 48. 48. 47. 49.]\n",
      " [47. 47. 43. 48. 48. 46. 50. 51. 50. 51.]\n",
      " [48. 48. 48. 48. 49. 45. 43. nan 35. 40.]\n",
      " [49. 49. 47. 49. 48. 50. 50. 52. 55. 47.]]\n"
     ]
    }
   ],
   "source": [
    "goalAccuray = np.matrix.round(FieldGoals/FieldGoalAttempts*100)\n",
    "print(goalAccuray)\n"
   ]
  },
  {
   "cell_type": "code",
   "execution_count": 27,
   "metadata": {},
   "outputs": [],
   "source": [
    "goalAccuray = np.nan_to_num(goalAccuray)"
   ]
  },
  {
   "cell_type": "code",
   "execution_count": 31,
   "metadata": {},
   "outputs": [
    {
     "name": "stdout",
     "output_type": "stream",
     "text": [
      "61.0\n",
      "0.0\n"
     ]
    }
   ],
   "source": [
    "print(goalAccuray.max())\n",
    "print(goalAccuray.min())\n"
   ]
  },
  {
   "cell_type": "code",
   "execution_count": 29,
   "metadata": {},
   "outputs": [
    {
     "data": {
      "text/plain": [
       "array([[45., 46., 46., 47., 46., 45., 43., 46., 42., 37.],\n",
       "       [45., 47., 43., 44., 46., 44., 45., 42., 45., 44.],\n",
       "       [48., 48., 48., 49., 50., 51., 53., 56., 57., 49.],\n",
       "       [48., 48., 49., 44., 46., 46., 43., 45., 45., 44.],\n",
       "       [53., 60., 60., 57., 61., 59., 57., 58., 59., 59.],\n",
       "       [51., 50., 49., 49., 52., 50., 49., 53., 52., 46.],\n",
       "       [43., 44., 49., 50., 49., 46., 48., 48., 47., 49.],\n",
       "       [47., 47., 43., 48., 48., 46., 50., 51., 50., 51.],\n",
       "       [48., 48., 48., 48., 49., 45., 43.,  0., 35., 40.],\n",
       "       [49., 49., 47., 49., 48., 50., 50., 52., 55., 47.]])"
      ]
     },
     "execution_count": 29,
     "metadata": {},
     "output_type": "execute_result"
    }
   ],
   "source": [
    "goalAccuray"
   ]
  },
  {
   "cell_type": "code",
   "execution_count": 89,
   "metadata": {},
   "outputs": [
    {
     "name": "stdout",
     "output_type": "stream",
     "text": [
      "0 [45. 46. 46. 47. 46. 45. 43. 46. 42. 37.]\n",
      "1 [45. 47. 43. 44. 46. 44. 45. 42. 45. 44.]\n",
      "2 [48. 48. 48. 49. 50. 51. 53. 56. 57. 49.]\n",
      "3 [48. 48. 49. 44. 46. 46. 43. 45. 45. 44.]\n",
      "4 [53. 60. 60. 57. 61. 59. 57. 58. 59. 59.]\n",
      "5 [51. 50. 49. 49. 52. 50. 49. 53. 52. 46.]\n",
      "6 [43. 44. 49. 50. 49. 46. 48. 48. 47. 49.]\n",
      "7 [47. 47. 43. 48. 48. 46. 50. 51. 50. 51.]\n",
      "8 [48. 48. 48. 48. 49. 45. 43.  0. 35. 40.]\n",
      "9 [49. 49. 47. 49. 48. 50. 50. 52. 55. 47.]\n"
     ]
    }
   ],
   "source": [
    "# whose goal accuracy is maximum\n",
    "# Python’s built-in enumerate function allows us to loop over a list and retrieve both the index and the value of each item in the list\n",
    "\n",
    "for index, item in enumerate(goalAccuray):\n",
    "     print(index,item)\n"
   ]
  },
  {
   "cell_type": "code",
   "execution_count": 91,
   "metadata": {},
   "outputs": [
    {
     "name": "stdout",
     "output_type": "stream",
     "text": [
      "4 4 61.0\n",
      "DwightHoward\n",
      "2009\n"
     ]
    }
   ],
   "source": [
    "# whose goal accuracy is maximum\n",
    "for i in range(len(goalAccuray)):\n",
    "    for j in range(len(goalAccuray)):\n",
    "        if goalAccuray [i][j] == goalAccuray.max():\n",
    "            print(i,j,goalAccuray [i][j])\n",
    "            for p in Pdict:\n",
    "                if Pdict[p] == i:\n",
    "                    print(p)\n",
    "            for s in Sdict:\n",
    "                if Sdict[s] == j:\n",
    "                    print(s)\n",
    "        \n"
   ]
  },
  {
   "cell_type": "code",
   "execution_count": 92,
   "metadata": {},
   "outputs": [
    {
     "name": "stdout",
     "output_type": "stream",
     "text": [
      "8 7 0.0\n",
      "DerrickRose\n",
      "2012\n"
     ]
    }
   ],
   "source": [
    "# whose goal accuracy is minimum\n",
    "for i in range(len(goalAccuray)):\n",
    "    for j in range(len(goalAccuray)):\n",
    "        if goalAccuray [i][j] == goalAccuray.min():\n",
    "            print(i,j,goalAccuray [i][j])\n",
    "            for p in Pdict:\n",
    "                if Pdict[p] == i:\n",
    "                    print(p)\n",
    "            for s in Sdict:\n",
    "                if Sdict[s] == j:\n",
    "                    print(s)\n"
   ]
  },
  {
   "cell_type": "code",
   "execution_count": 99,
   "metadata": {},
   "outputs": [],
   "source": [
    "list1 = np.arange(0,20)"
   ]
  },
  {
   "cell_type": "code",
   "execution_count": 100,
   "metadata": {},
   "outputs": [
    {
     "data": {
      "text/plain": [
       "array([ 0,  1,  2,  3,  4,  5,  6,  7,  8,  9, 10, 11, 12, 13, 14, 15, 16,\n",
       "       17, 18, 19])"
      ]
     },
     "execution_count": 100,
     "metadata": {},
     "output_type": "execute_result"
    }
   ],
   "source": [
    "list1"
   ]
  },
  {
   "cell_type": "code",
   "execution_count": 101,
   "metadata": {},
   "outputs": [],
   "source": [
    "m1 = np.reshape(list1,(5,4))"
   ]
  },
  {
   "cell_type": "code",
   "execution_count": 102,
   "metadata": {},
   "outputs": [
    {
     "data": {
      "text/plain": [
       "array([[ 0,  1,  2,  3],\n",
       "       [ 4,  5,  6,  7],\n",
       "       [ 8,  9, 10, 11],\n",
       "       [12, 13, 14, 15],\n",
       "       [16, 17, 18, 19]])"
      ]
     },
     "execution_count": 102,
     "metadata": {},
     "output_type": "execute_result"
    }
   ],
   "source": [
    "m1"
   ]
  },
  {
   "cell_type": "code",
   "execution_count": 103,
   "metadata": {},
   "outputs": [],
   "source": [
    "m2 = np.reshape(list1,(5,4),order = 'F')"
   ]
  },
  {
   "cell_type": "code",
   "execution_count": 104,
   "metadata": {},
   "outputs": [
    {
     "data": {
      "text/plain": [
       "array([[ 0,  5, 10, 15],\n",
       "       [ 1,  6, 11, 16],\n",
       "       [ 2,  7, 12, 17],\n",
       "       [ 3,  8, 13, 18],\n",
       "       [ 4,  9, 14, 19]])"
      ]
     },
     "execution_count": 104,
     "metadata": {},
     "output_type": "execute_result"
    }
   ],
   "source": [
    "m2"
   ]
  },
  {
   "cell_type": "code",
   "execution_count": 105,
   "metadata": {},
   "outputs": [
    {
     "data": {
      "text/plain": [
       "array([[ 0,  6, 12, 18],\n",
       "       [ 5, 11, 17, 23],\n",
       "       [10, 16, 22, 28],\n",
       "       [15, 21, 27, 33],\n",
       "       [20, 26, 32, 38]])"
      ]
     },
     "execution_count": 105,
     "metadata": {},
     "output_type": "execute_result"
    }
   ],
   "source": [
    "m1+m2"
   ]
  },
  {
   "cell_type": "code",
   "execution_count": 106,
   "metadata": {},
   "outputs": [
    {
     "data": {
      "text/plain": [
       "array([[  0,  -4,  -8, -12],\n",
       "       [  3,  -1,  -5,  -9],\n",
       "       [  6,   2,  -2,  -6],\n",
       "       [  9,   5,   1,  -3],\n",
       "       [ 12,   8,   4,   0]])"
      ]
     },
     "execution_count": 106,
     "metadata": {},
     "output_type": "execute_result"
    }
   ],
   "source": [
    "m1-m2"
   ]
  },
  {
   "cell_type": "code",
   "execution_count": 107,
   "metadata": {},
   "outputs": [
    {
     "data": {
      "text/plain": [
       "array([[  0,   5,  20,  45],\n",
       "       [  4,  30,  66, 112],\n",
       "       [ 16,  63, 120, 187],\n",
       "       [ 36, 104, 182, 270],\n",
       "       [ 64, 153, 252, 361]])"
      ]
     },
     "execution_count": 107,
     "metadata": {},
     "output_type": "execute_result"
    }
   ],
   "source": [
    "m1*m2"
   ]
  },
  {
   "cell_type": "code",
   "execution_count": 108,
   "metadata": {},
   "outputs": [
    {
     "data": {
      "text/plain": [
       "array([[       nan, 0.2       , 0.2       , 0.2       ],\n",
       "       [4.        , 0.83333333, 0.54545455, 0.4375    ],\n",
       "       [4.        , 1.28571429, 0.83333333, 0.64705882],\n",
       "       [4.        , 1.625     , 1.07692308, 0.83333333],\n",
       "       [4.        , 1.88888889, 1.28571429, 1.        ]])"
      ]
     },
     "execution_count": 108,
     "metadata": {},
     "output_type": "execute_result"
    }
   ],
   "source": [
    "m1/m2"
   ]
  },
  {
   "cell_type": "code",
   "execution_count": 109,
   "metadata": {},
   "outputs": [
    {
     "data": {
      "text/plain": [
       "array([[0.        , 0.2       , 0.2       , 0.2       ],\n",
       "       [4.        , 0.83333333, 0.54545455, 0.4375    ],\n",
       "       [4.        , 1.28571429, 0.83333333, 0.64705882],\n",
       "       [4.        , 1.625     , 1.07692308, 0.83333333],\n",
       "       [4.        , 1.88888889, 1.28571429, 1.        ]])"
      ]
     },
     "execution_count": 109,
     "metadata": {},
     "output_type": "execute_result"
    }
   ],
   "source": [
    "np.nan_to_num(m1/m2)"
   ]
  },
  {
   "cell_type": "code",
   "execution_count": null,
   "metadata": {},
   "outputs": [],
   "source": []
  }
 ],
 "metadata": {
  "kernelspec": {
   "display_name": "Python 3",
   "language": "python",
   "name": "python3"
  },
  "language_info": {
   "codemirror_mode": {
    "name": "ipython",
    "version": 3
   },
   "file_extension": ".py",
   "mimetype": "text/x-python",
   "name": "python",
   "nbconvert_exporter": "python",
   "pygments_lexer": "ipython3",
   "version": "3.6.4"
  }
 },
 "nbformat": 4,
 "nbformat_minor": 2
}
