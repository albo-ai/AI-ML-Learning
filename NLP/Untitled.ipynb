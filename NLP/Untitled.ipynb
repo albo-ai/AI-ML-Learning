{
 "cells": [
  {
   "cell_type": "code",
   "execution_count": 35,
   "metadata": {
    "collapsed": true
   },
   "outputs": [],
   "source": [
    "import nltk\n",
    "from nltk.corpus import stopwords"
   ]
  },
  {
   "cell_type": "code",
   "execution_count": 36,
   "metadata": {
    "collapsed": true
   },
   "outputs": [],
   "source": [
    "sentences = [\"It is going to rain today\", \"Today I am not going outside\", \"I am going to watch the season premiere\"]"
   ]
  },
  {
   "cell_type": "code",
   "execution_count": 37,
   "metadata": {},
   "outputs": [
    {
     "name": "stdout",
     "output_type": "stream",
     "text": [
      "['it is going to rain today', 'today i am not going outside', 'i am going to watch the season premiere']\n"
     ]
    }
   ],
   "source": [
    "for i in range(len(sentences)):\n",
    "    sentences[i] = sentences[i].lower()\n",
    "    \n",
    "print(sentences)"
   ]
  },
  {
   "cell_type": "code",
   "execution_count": 45,
   "metadata": {},
   "outputs": [
    {
     "name": "stdout",
     "output_type": "stream",
     "text": [
      "['going', 'rain', 'today', 'today', 'not', 'going', 'outside', 'going', 'watch', 'the', 'season', 'premiere']\n"
     ]
    }
   ],
   "source": [
    "words = []\n",
    "for i in range(len(sentences)):\n",
    "    tokens = nltk.word_tokenize(sentences[i])\n",
    "    tokens = [token for token in tokens if len(token) > 2]\n",
    "    # tokens = [token for token in tokens if token not in stopwords.words('english')]\n",
    "    for token in tokens:\n",
    "        words.append(token)\n",
    "    \n",
    "print(words)"
   ]
  },
  {
   "cell_type": "code",
   "execution_count": 46,
   "metadata": {},
   "outputs": [
    {
     "data": {
      "text/plain": [
       "12"
      ]
     },
     "execution_count": 46,
     "metadata": {},
     "output_type": "execute_result"
    }
   ],
   "source": [
    "len(words)"
   ]
  },
  {
   "cell_type": "code",
   "execution_count": 47,
   "metadata": {},
   "outputs": [
    {
     "data": {
      "text/plain": [
       "FreqDist({'going': 3,\n",
       "          'not': 1,\n",
       "          'outside': 1,\n",
       "          'premiere': 1,\n",
       "          'rain': 1,\n",
       "          'season': 1,\n",
       "          'the': 1,\n",
       "          'today': 2,\n",
       "          'watch': 1})"
      ]
     },
     "execution_count": 47,
     "metadata": {},
     "output_type": "execute_result"
    }
   ],
   "source": [
    "frequency_dist = nltk.FreqDist(words)\n",
    "frequency_dist"
   ]
  },
  {
   "cell_type": "code",
   "execution_count": 17,
   "metadata": {},
   "outputs": [
    {
     "data": {
      "text/plain": [
       "['going',\n",
       " 'to',\n",
       " 'today',\n",
       " 'i',\n",
       " 'am',\n",
       " 'it',\n",
       " 'is',\n",
       " 'rain',\n",
       " 'not',\n",
       " 'outside',\n",
       " 'watch',\n",
       " 'the',\n",
       " 'season',\n",
       " 'premiere']"
      ]
     },
     "execution_count": 17,
     "metadata": {},
     "output_type": "execute_result"
    }
   ],
   "source": [
    "sorted(frequency_dist,key = frequency_dist.__getitem__, reverse = True)"
   ]
  },
  {
   "cell_type": "code",
   "execution_count": 7,
   "metadata": {},
   "outputs": [
    {
     "data": {
      "text/plain": [
       "{'am',\n",
       " 'going',\n",
       " 'i',\n",
       " 'is',\n",
       " 'it',\n",
       " 'not',\n",
       " 'outside',\n",
       " 'premiere',\n",
       " 'rain',\n",
       " 'season',\n",
       " 'the',\n",
       " 'to',\n",
       " 'today',\n",
       " 'watch'}"
      ]
     },
     "execution_count": 7,
     "metadata": {},
     "output_type": "execute_result"
    }
   ],
   "source": [
    "unique_words = set(words)\n",
    "unique_words"
   ]
  },
  {
   "cell_type": "code",
   "execution_count": 8,
   "metadata": {},
   "outputs": [
    {
     "data": {
      "text/plain": [
       "14"
      ]
     },
     "execution_count": 8,
     "metadata": {},
     "output_type": "execute_result"
    }
   ],
   "source": [
    "len(unique_words)"
   ]
  },
  {
   "cell_type": "code",
   "execution_count": 9,
   "metadata": {},
   "outputs": [
    {
     "name": "stdout",
     "output_type": "stream",
     "text": [
      "{'it': 1, 'is': 1, 'going': 3, 'to': 2, 'rain': 1, 'today': 2, 'i': 2, 'am': 2, 'not': 1, 'outside': 1, 'watch': 1, 'the': 1, 'season': 1, 'premiere': 1}\n"
     ]
    }
   ],
   "source": [
    "# Creating word histogram\n",
    "word2count = {}\n",
    "for i in range(len(sentences)):\n",
    "    words = nltk.word_tokenize(sentences[i])\n",
    "    for word in words:\n",
    "        if word not in word2count.keys():\n",
    "            word2count[word] = 1\n",
    "        else:\n",
    "            word2count[word] += 1\n",
    "\n",
    "print(word2count)"
   ]
  },
  {
   "cell_type": "code",
   "execution_count": 10,
   "metadata": {},
   "outputs": [
    {
     "data": {
      "text/plain": [
       "14"
      ]
     },
     "execution_count": 10,
     "metadata": {},
     "output_type": "execute_result"
    }
   ],
   "source": [
    "len(word2count)"
   ]
  },
  {
   "cell_type": "code",
   "execution_count": 11,
   "metadata": {},
   "outputs": [
    {
     "data": {
      "text/plain": [
       "['am',\n",
       " 'going',\n",
       " 'i',\n",
       " 'is',\n",
       " 'it',\n",
       " 'not',\n",
       " 'outside',\n",
       " 'premiere',\n",
       " 'rain',\n",
       " 'season',\n",
       " 'the',\n",
       " 'to',\n",
       " 'today',\n",
       " 'watch']"
      ]
     },
     "execution_count": 11,
     "metadata": {},
     "output_type": "execute_result"
    }
   ],
   "source": [
    "sorted(word2count)"
   ]
  },
  {
   "cell_type": "code",
   "execution_count": 12,
   "metadata": {},
   "outputs": [
    {
     "data": {
      "text/plain": [
       "['going',\n",
       " 'to',\n",
       " 'today',\n",
       " 'i',\n",
       " 'am',\n",
       " 'it',\n",
       " 'is',\n",
       " 'rain',\n",
       " 'not',\n",
       " 'outside',\n",
       " 'watch',\n",
       " 'the',\n",
       " 'season',\n",
       " 'premiere']"
      ]
     },
     "execution_count": 12,
     "metadata": {},
     "output_type": "execute_result"
    }
   ],
   "source": [
    "sorted(word2count,key = word2count.__getitem__, reverse = True)"
   ]
  },
  {
   "cell_type": "code",
   "execution_count": 27,
   "metadata": {},
   "outputs": [
    {
     "data": {
      "text/plain": [
       "['going',\n",
       " 'to',\n",
       " 'today',\n",
       " 'i',\n",
       " 'am',\n",
       " 'it',\n",
       " 'is',\n",
       " 'rain',\n",
       " 'not',\n",
       " 'outside',\n",
       " 'watch',\n",
       " 'the',\n",
       " 'season',\n",
       " 'premiere']"
      ]
     },
     "execution_count": 27,
     "metadata": {},
     "output_type": "execute_result"
    }
   ],
   "source": [
    "keys = sorted(word2count,key = word2count.__getitem__, reverse = True)\n",
    "keys"
   ]
  },
  {
   "cell_type": "code",
   "execution_count": 15,
   "metadata": {},
   "outputs": [
    {
     "data": {
      "text/plain": [
       "['it',\n",
       " 'is',\n",
       " 'going',\n",
       " 'to',\n",
       " 'rain',\n",
       " 'today',\n",
       " 'today',\n",
       " 'i',\n",
       " 'am',\n",
       " 'not',\n",
       " 'going',\n",
       " 'outside',\n",
       " 'i',\n",
       " 'am',\n",
       " 'going',\n",
       " 'to',\n",
       " 'watch',\n",
       " 'the',\n",
       " 'season',\n",
       " 'premiere']"
      ]
     },
     "execution_count": 15,
     "metadata": {},
     "output_type": "execute_result"
    }
   ],
   "source": [
    "words"
   ]
  },
  {
   "cell_type": "code",
   "execution_count": 25,
   "metadata": {},
   "outputs": [
    {
     "data": {
      "text/plain": [
       "['going',\n",
       " 'to',\n",
       " 'today',\n",
       " 'i',\n",
       " 'am',\n",
       " 'it',\n",
       " 'is',\n",
       " 'rain',\n",
       " 'not',\n",
       " 'outside',\n",
       " 'watch',\n",
       " 'the',\n",
       " 'season',\n",
       " 'premiere']"
      ]
     },
     "execution_count": 25,
     "metadata": {},
     "output_type": "execute_result"
    }
   ],
   "source": [
    "frequency_dist = nltk.FreqDist(word2count)\n",
    "\n",
    "sorted(frequency_dist,key = frequency_dist.__getitem__, reverse = True)"
   ]
  },
  {
   "cell_type": "code",
   "execution_count": 18,
   "metadata": {},
   "outputs": [
    {
     "data": {
      "text/plain": [
       "dict_items([('it', 1), ('is', 1), ('going', 3), ('to', 2), ('rain', 1), ('today', 2), ('i', 2), ('am', 2), ('not', 1), ('outside', 1), ('watch', 1), ('the', 1), ('season', 1), ('premiere', 1)])"
      ]
     },
     "execution_count": 18,
     "metadata": {},
     "output_type": "execute_result"
    }
   ],
   "source": [
    "frequency_dist.items()"
   ]
  },
  {
   "cell_type": "code",
   "execution_count": 24,
   "metadata": {},
   "outputs": [
    {
     "name": "stdout",
     "output_type": "stream",
     "text": [
      "{'it': 1, 'is': 1, 'going': 3, 'to': 2, 'rain': 1, 'today': 2, 'i': 2, 'am': 2, 'not': 1, 'outside': 1, 'watch': 1, 'the': 1, 'season': 1, 'premiere': 1}\n"
     ]
    },
    {
     "data": {
      "image/png": "[encoded data removed]",
      "text/plain": [
       "<matplotlib.figure.Figure at 0x1abb3110f98>"
      ]
     },
     "metadata": {},
     "output_type": "display_data"
    }
   ],
   "source": [
    "large_words = dict( [(k,v) for k,v in frequency_dist.items() ] )\n",
    "\n",
    "print(large_words)\n",
    "\n",
    "frequency_dist = nltk.FreqDist(large_words)\n",
    "\n",
    "frequency_dist.plot(50,cumulative=False)"
   ]
  },
  {
   "cell_type": "code",
   "execution_count": 21,
   "metadata": {},
   "outputs": [
    {
     "data": {
      "text/plain": [
       "3"
      ]
     },
     "execution_count": 21,
     "metadata": {},
     "output_type": "execute_result"
    }
   ],
   "source": [
    "frequency_dist['going']"
   ]
  },
  {
   "cell_type": "code",
   "execution_count": 23,
   "metadata": {},
   "outputs": [
    {
     "data": {
      "text/plain": [
       "['going',\n",
       " 'to',\n",
       " 'today',\n",
       " 'i',\n",
       " 'am',\n",
       " 'it',\n",
       " 'is',\n",
       " 'rain',\n",
       " 'not',\n",
       " 'outside',\n",
       " 'watch',\n",
       " 'the',\n",
       " 'season',\n",
       " 'premiere']"
      ]
     },
     "execution_count": 23,
     "metadata": {},
     "output_type": "execute_result"
    }
   ],
   "source": [
    "sorted(frequency_dist,key = frequency_dist.__getitem__, reverse = True)"
   ]
  },
  {
   "cell_type": "code",
   "execution_count": 30,
   "metadata": {},
   "outputs": [
    {
     "data": {
      "text/plain": [
       "[['going', 3],\n",
       " ['to', 2],\n",
       " ['today', 2],\n",
       " ['i', 2],\n",
       " ['am', 2],\n",
       " ['it', 1],\n",
       " ['is', 1],\n",
       " ['rain', 1],\n",
       " ['not', 1],\n",
       " ['outside', 1],\n",
       " ['watch', 1],\n",
       " ['the', 1],\n",
       " ['season', 1],\n",
       " ['premiere', 1]]"
      ]
     },
     "execution_count": 30,
     "metadata": {},
     "output_type": "execute_result"
    }
   ],
   "source": [
    "sorted_key_words = []\n",
    "for key in sorted(frequency_dist,key = frequency_dist.__getitem__, reverse = True):\n",
    "    sorted_key_words.append([key, frequency_dist[key]])\n",
    "    \n",
    "sorted_key_words"
   ]
  },
  {
   "cell_type": "code",
   "execution_count": 44,
   "metadata": {},
   "outputs": [
    {
     "name": "stdout",
     "output_type": "stream",
     "text": [
      "{'going': 3, 'rain': 1, 'today': 2, 'not': 1, 'outside': 1, 'watch': 1, 'the': 1, 'season': 1, 'premiere': 1}\n"
     ]
    }
   ],
   "source": [
    "large_words = dict( [(k,v) for k,v in frequency_dist.items() if len(k) > 2] )\n",
    "\n",
    "print(large_words)"
   ]
  },
  {
   "cell_type": "code",
   "execution_count": null,
   "metadata": {
    "collapsed": true
   },
   "outputs": [],
   "source": []
  }
 ],
 "metadata": {
  "kernelspec": {
   "display_name": "Python 3",
   "language": "python",
   "name": "python3"
  },
  "language_info": {
   "codemirror_mode": {
    "name": "ipython",
    "version": 3
   },
   "file_extension": ".py",
   "mimetype": "text/x-python",
   "name": "python",
   "nbconvert_exporter": "python",
   "pygments_lexer": "ipython3",
   "version": "3.6.3"
  }
 },
 "nbformat": 4,
 "nbformat_minor": 2
}
