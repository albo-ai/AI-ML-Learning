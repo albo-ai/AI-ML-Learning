{
 "cells": [
  {
   "cell_type": "markdown",
   "metadata": {},
   "source": [
    "### Cats-Dogs Classification\n",
    "\n",
    "* Step 1 : Pre-processing Data\n",
    "* Step 2 : Train the model\n",
    "    1. Split data into training (70%) and validation (30%)\n",
    "    2. Zero mean (optional)\n",
    "    3. Data Augmentation (optional)\n",
    "        1. Flipping\n",
    "        2. Changing brightness, contrast\n",
    "        3. Changing hue\n",
    "* Step 3 : Testing"
   ]
  },
  {
   "cell_type": "markdown",
   "metadata": {},
   "source": [
    "### Train the model\n",
    "\n",
    "* Choose an architecture (like AlexNet, GoogleNet, ResNet, etc)\n",
    "* Or build your custom architecture\n",
    "* Choose your hyper-parameters\n",
    "* Feed images on the fly!\n",
    "* Minimize training error"
   ]
  },
  {
   "cell_type": "markdown",
   "metadata": {},
   "source": [
    "### Test the model \n",
    "\n",
    "Here test data is nothing but your validation set.\n",
    "\n",
    "* Measure test accuracy\n",
    "* If difference between training error and test increases, it indicates overfitting. So, use regularisers like 'dropout'\n",
    "* Tune hyper-parameters to increase test accuracy"
   ]
  },
  {
   "cell_type": "code",
   "execution_count": null,
   "metadata": {
    "collapsed": true
   },
   "outputs": [],
   "source": []
  }
 ],
 "metadata": {
  "kernelspec": {
   "display_name": "Python 3",
   "language": "python",
   "name": "python3"
  },
  "language_info": {
   "codemirror_mode": {
    "name": "ipython",
    "version": 3
   },
   "file_extension": ".py",
   "mimetype": "text/x-python",
   "name": "python",
   "nbconvert_exporter": "python",
   "pygments_lexer": "ipython3",
   "version": "3.6.3"
  }
 },
 "nbformat": 4,
 "nbformat_minor": 2
}
