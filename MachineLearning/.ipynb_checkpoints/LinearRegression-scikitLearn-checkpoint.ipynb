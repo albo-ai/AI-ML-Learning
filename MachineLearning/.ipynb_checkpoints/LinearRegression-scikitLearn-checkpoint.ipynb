{
 "cells": [
  {
   "cell_type": "code",
   "execution_count": 1,
   "metadata": {
    "collapsed": true
   },
   "outputs": [],
   "source": [
    "###############################################################################\n",
    "\n",
    "## Import stuff\n",
    "\n",
    "import numpy as np\n",
    "\n",
    "from sklearn import datasets, linear_model, metrics\n",
    "\n",
    "\n",
    "###############################################################################\n",
    "\n",
    "## Load the diabetes dataset\n",
    "\n",
    "diabetes = datasets.load_diabetes()\n",
    "\n",
    "diabetes_X = diabetes.data # matrix of dimensions 442x10\n",
    "\n",
    "\n",
    "# Split the data into training/testing sets\n",
    "\n",
    "diabetes_X_train = diabetes_X[:-20]\n",
    "\n",
    "diabetes_X_test = diabetes_X[-20:]\n",
    " \n",
    "\n",
    "# Split the targets into training/testing sets\n",
    "\n",
    "diabetes_y_train = diabetes.target[:-20]\n",
    "\n",
    "diabetes_y_test = diabetes.target[-20:]\n",
    "\n",
    "\n",
    "###############################################################################"
   ]
  },
  {
   "cell_type": "code",
   "execution_count": 2,
   "metadata": {},
   "outputs": [
    {
     "name": "stdout",
     "output_type": "stream",
     "text": [
      "Coefficients: \n",
      " [ 3.03499549e-01 -2.37639315e+02  5.10530605e+02  3.27736980e+02\n",
      " -8.14131709e+02  4.92814588e+02  1.02848452e+02  1.84606489e+02\n",
      "  7.43519617e+02  7.60951722e+01]\n",
      "Mean squared error: 2004.57\n",
      "================================================================================\n"
     ]
    }
   ],
   "source": [
    "## Scikit learn\n",
    "\n",
    "# Create linear regression object\n",
    "\n",
    "regr = linear_model.LinearRegression()\n",
    "\n",
    "\n",
    "# Train the model using the training sets\n",
    "\n",
    "regr.fit(diabetes_X_train, diabetes_y_train)\n",
    " \n",
    "\n",
    "# Make predictions using the testing set\n",
    "\n",
    "diabetes_y_pred = regr.predict(diabetes_X_test)\n",
    " \n",
    "\n",
    "# The coefficients\n",
    "\n",
    "print('Coefficients: \\n', regr.coef_)\n",
    "\n",
    "# The mean squared error\n",
    "\n",
    "mean_squared_error = metrics.mean_squared_error(diabetes_y_test, diabetes_y_pred)\n",
    "\n",
    "print(\"Mean squared error: %.2f\" % mean_squared_error)\n",
    "\n",
    "print(\"=\"*80)"
   ]
  },
  {
   "cell_type": "code",
   "execution_count": null,
   "metadata": {
    "collapsed": true
   },
   "outputs": [],
   "source": []
  }
 ],
 "metadata": {
  "kernelspec": {
   "display_name": "Python 3",
   "language": "python",
   "name": "python3"
  },
  "language_info": {
   "codemirror_mode": {
    "name": "ipython",
    "version": 3
   },
   "file_extension": ".py",
   "mimetype": "text/x-python",
   "name": "python",
   "nbconvert_exporter": "python",
   "pygments_lexer": "ipython3",
   "version": "3.6.3"
  }
 },
 "nbformat": 4,
 "nbformat_minor": 2
}
