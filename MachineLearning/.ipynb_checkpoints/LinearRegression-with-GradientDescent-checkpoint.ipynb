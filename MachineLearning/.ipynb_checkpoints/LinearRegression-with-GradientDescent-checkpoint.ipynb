{
 "cells": [
  {
   "cell_type": "code",
   "execution_count": 1,
   "metadata": {
    "collapsed": true
   },
   "outputs": [],
   "source": [
    "## Import stuff\n",
    "\n",
    "import numpy as np\n",
    "from sklearn import datasets, linear_model, metrics"
   ]
  },
  {
   "cell_type": "code",
   "execution_count": 2,
   "metadata": {
    "collapsed": true
   },
   "outputs": [],
   "source": [
    "## Load the diabetes dataset\n",
    "diabetes = datasets.load_diabetes()\n",
    "diabetes_X = diabetes.data # matrix of dimensions 442x10\n",
    "\n",
    "# Split the data into training/testing sets\n",
    "diabetes_X_train = diabetes_X[:-20]\n",
    "diabetes_X_test = diabetes_X[-20:]\n",
    "\n",
    "# Split the targets into training/testing sets\n",
    "diabetes_y_train = diabetes.target[:-20]\n",
    "diabetes_y_test = diabetes.target[-20:]\n"
   ]
  },
  {
   "cell_type": "code",
   "execution_count": 3,
   "metadata": {},
   "outputs": [
    {
     "name": "stdout",
     "output_type": "stream",
     "text": [
      "Epoch 0: 29468.773393\n",
      "Epoch 5000: 3048.214979\n",
      "Epoch 10000: 2941.415977\n",
      "Epoch 15000: 2927.458036\n",
      "Epoch 20000: 2924.752853\n",
      "Epoch 25000: 2923.795426\n",
      "Epoch 30000: 2923.195711\n",
      "Epoch 35000: 2922.694455\n",
      "Epoch 40000: 2922.231313\n",
      "Epoch 45000: 2921.789482\n",
      "Epoch 50000: 2921.363355\n",
      "Epoch 55000: 2920.950549\n",
      "Epoch 60000: 2920.549720\n",
      "Epoch 65000: 2920.159922\n",
      "Epoch 70000: 2919.780402\n",
      "Epoch 75000: 2919.410529\n",
      "Epoch 80000: 2919.049756\n",
      "Epoch 85000: 2918.697611\n",
      "Epoch 90000: 2918.353675\n",
      "Epoch 95000: 2918.017580\n"
     ]
    }
   ],
   "source": [
    "## Linear Regression using Gradient Descent\n",
    "## Our own implementation\n",
    "\n",
    "# train\n",
    "X = diabetes_X_train\n",
    "y = diabetes_y_train\n",
    "\n",
    "# train: init\n",
    "# Intialize weights\n",
    "W = np.random.uniform(low=-0.1, high=0.1, size=diabetes_X.shape[1])\n",
    "b = 0.0\n",
    "\n",
    "learning_rate = 0.1\n",
    "epochs = 100000\n",
    "\n",
    "# train: gradient descent\n",
    "\n",
    "for i in range(epochs):\n",
    "\n",
    "    # calculate predictions\n",
    "    y_predict = X.dot(W) + b\n",
    "\n",
    "    # calculate error and cost (mean squared error)\n",
    "    error = y - y_predict\n",
    "\n",
    "    mean_squared_error = np.mean(np.power(error, 2))\n",
    "\n",
    "    # calculate gradients\n",
    "    W_gradient = -(1.0/len(X)) * error.dot(X)\n",
    "    b_gradient = -(1.0/len(X)) * np.sum(error)\n",
    "\n",
    "    # update parameters\n",
    "\n",
    "    W = W - (learning_rate * W_gradient)\n",
    "    b = b - (learning_rate * b_gradient)\n",
    "\n",
    "    # diagnostic output\n",
    "    if i % 5000 == 0:\n",
    "        print(\"Epoch %d: %f\" % (i, mean_squared_error))\n",
    "\n"
   ]
  },
  {
   "cell_type": "code",
   "execution_count": 5,
   "metadata": {},
   "outputs": [
    {
     "name": "stdout",
     "output_type": "stream",
     "text": [
      "Mean squared error: 1993.53\n",
      "================================================================================\n"
     ]
    }
   ],
   "source": [
    "# test\n",
    "\n",
    "X = diabetes_X_test\n",
    "y = diabetes_y_test\n",
    "\n",
    "y_predict = X.dot(W) + b\n",
    "\n",
    "error = y - y_predict\n",
    "\n",
    "mean_squared_error = np.mean(np.power(error, 2))\n",
    "\n",
    "print(\"Mean squared error: %.2f\" % mean_squared_error)\n",
    "\n",
    "print(\"=\"*80)"
   ]
  },
  {
   "cell_type": "code",
   "execution_count": null,
   "metadata": {
    "collapsed": true
   },
   "outputs": [],
   "source": []
  }
 ],
 "metadata": {
  "kernelspec": {
   "display_name": "Python 3",
   "language": "python",
   "name": "python3"
  },
  "language_info": {
   "codemirror_mode": {
    "name": "ipython",
    "version": 3
   },
   "file_extension": ".py",
   "mimetype": "text/x-python",
   "name": "python",
   "nbconvert_exporter": "python",
   "pygments_lexer": "ipython3",
   "version": "3.6.3"
  }
 },
 "nbformat": 4,
 "nbformat_minor": 2
}
