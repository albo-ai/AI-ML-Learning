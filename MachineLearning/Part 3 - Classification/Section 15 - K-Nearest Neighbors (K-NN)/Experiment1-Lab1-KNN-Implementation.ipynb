{
 "cells": [
  {
   "cell_type": "markdown",
   "metadata": {},
   "source": [
    "# Session 1\n",
    "## Experiment 1\n",
    "### Lab"
   ]
  },
  {
   "cell_type": "markdown",
   "metadata": {},
   "source": [
    "In this experiment, we will use the data set on fruits which we explored earlier and learn how a simple K nearest neighbour classification works. "
   ]
  },
  {
   "cell_type": "markdown",
   "metadata": {},
   "source": [
    "Let us consider a simple situation. Given some data about a fruit, we want to label it automatically.\n",
    "\n",
    "Fruits are characterized by \n",
    " * weight in grams as a float\n",
    " * colour as an integer\n",
    "     - 1 $\\rightarrow$ red\n",
    "     - 2 $\\rightarrow$ orange\n",
    "     - 3 $\\rightarrow$ yellow\n",
    "     - 4 $\\rightarrow$ green\n",
    "     - 5 $\\rightarrow$ blue\n",
    "     - 6 $\\rightarrow$ purple\n",
    " * label as a string\n",
    "     - \"A\" $\\rightarrow$ Apple\n",
    "     - \"B\" $\\rightarrow$ Banana\n",
    "     \n",
    "We are given some sample data such as (303, 3, \"A\") meaning the fruit with 303 gram weight, and yellow colour is an apple. A set of such *training examples* is given in “01-train.csv”. This has a small set of 17 **labeled** examples. \n",
    "\n",
    "We are given a set of **test** data where only weight and colour are given,  eg. (373,1). We should design a simple Nearest Neighbour classifier that will find the fruit label. i.e., \"A\" or \"B\", meaning Apple or Banana. \n",
    "\n",
    "We have 102 such testcases. We are also given additional files which have the correct labels for all the 102 test cases. If your predicted label is correct, you have done well!\n",
    "\n",
    "Here are the details of all the files:\n",
    "  * 01-train.csv $\\Rightarrow$ The original input data. \n",
    "    - 18 lines\n",
    "    - the first line is a header\n",
    "    - each of the remaining 17 lines has three pieces of data:\n",
    "       * weight in grams :: float\n",
    "       * colour code :: 1, 2, 3, 4, 5 \n",
    "       * label :: \"A\", \"B\"\n",
    "  * 01-test1.csv $\\Rightarrow$ The first test data set.\n",
    "    - 31 lines\n",
    "    - the first line is a header\n",
    "    - each of the remaining 30 lines has two pieces of data\n",
    "       * weight in grams :: float\n",
    "       * colour code :: 1, 2, 3, 4, 5\n",
    "  * 01-test1-labels.csv $\\Rightarrow$ The labels for test data set above. That is, each line has just the correct label.\n",
    "  * 01-test1-labelled.csv $\\Rightarrow$ The above two files combined. \n",
    "  * 01-test2.csv $\\Rightarrow$ The second test data set. Similar to the first data set, except that it has 73 lines.\n",
    "  * 01-test2-labels.csv $\\Rightarrow$ The labels for test data set above. That is, each line has just the correct label.\n",
    "  * 01-test2-labelled.csv $\\Rightarrow$ The above two files combined. "
   ]
  },
  {
   "cell_type": "markdown",
   "metadata": {},
   "source": [
    "We  see that similar fruits come close in the feature (weight, color) space? Now let us plot one sample data given in black."
   ]
  },
  {
   "cell_type": "code",
   "execution_count": 1,
   "metadata": {
    "collapsed": true
   },
   "outputs": [],
   "source": [
    "# Let us first read the data from the file and do a quick visualization\n",
    "import pandas as pd\n",
    "import matplotlib.pyplot as plt\n",
    "train = pd.read_csv(\"../../Datasets/01-train.csv\")"
   ]
  },
  {
   "cell_type": "code",
   "execution_count": 2,
   "metadata": {},
   "outputs": [
    {
     "data": {
      "text/html": [
       "<div>\n",
       "<style>\n",
       "    .dataframe thead tr:only-child th {\n",
       "        text-align: right;\n",
       "    }\n",
       "\n",
       "    .dataframe thead th {\n",
       "        text-align: left;\n",
       "    }\n",
       "\n",
       "    .dataframe tbody tr th {\n",
       "        vertical-align: top;\n",
       "    }\n",
       "</style>\n",
       "<table border=\"1\" class=\"dataframe\">\n",
       "  <thead>\n",
       "    <tr style=\"text-align: right;\">\n",
       "      <th></th>\n",
       "      <th>Weight</th>\n",
       "      <th>Colour</th>\n",
       "      <th>Label</th>\n",
       "    </tr>\n",
       "  </thead>\n",
       "  <tbody>\n",
       "    <tr>\n",
       "      <th>0</th>\n",
       "      <td>303</td>\n",
       "      <td>3</td>\n",
       "      <td>B</td>\n",
       "    </tr>\n",
       "    <tr>\n",
       "      <th>1</th>\n",
       "      <td>370</td>\n",
       "      <td>1</td>\n",
       "      <td>A</td>\n",
       "    </tr>\n",
       "    <tr>\n",
       "      <th>2</th>\n",
       "      <td>298</td>\n",
       "      <td>3</td>\n",
       "      <td>B</td>\n",
       "    </tr>\n",
       "    <tr>\n",
       "      <th>3</th>\n",
       "      <td>277</td>\n",
       "      <td>3</td>\n",
       "      <td>B</td>\n",
       "    </tr>\n",
       "    <tr>\n",
       "      <th>4</th>\n",
       "      <td>377</td>\n",
       "      <td>4</td>\n",
       "      <td>A</td>\n",
       "    </tr>\n",
       "    <tr>\n",
       "      <th>5</th>\n",
       "      <td>299</td>\n",
       "      <td>3</td>\n",
       "      <td>B</td>\n",
       "    </tr>\n",
       "    <tr>\n",
       "      <th>6</th>\n",
       "      <td>382</td>\n",
       "      <td>1</td>\n",
       "      <td>A</td>\n",
       "    </tr>\n",
       "    <tr>\n",
       "      <th>7</th>\n",
       "      <td>374</td>\n",
       "      <td>4</td>\n",
       "      <td>A</td>\n",
       "    </tr>\n",
       "    <tr>\n",
       "      <th>8</th>\n",
       "      <td>303</td>\n",
       "      <td>4</td>\n",
       "      <td>B</td>\n",
       "    </tr>\n",
       "    <tr>\n",
       "      <th>9</th>\n",
       "      <td>309</td>\n",
       "      <td>3</td>\n",
       "      <td>B</td>\n",
       "    </tr>\n",
       "    <tr>\n",
       "      <th>10</th>\n",
       "      <td>359</td>\n",
       "      <td>1</td>\n",
       "      <td>A</td>\n",
       "    </tr>\n",
       "    <tr>\n",
       "      <th>11</th>\n",
       "      <td>366</td>\n",
       "      <td>1</td>\n",
       "      <td>A</td>\n",
       "    </tr>\n",
       "    <tr>\n",
       "      <th>12</th>\n",
       "      <td>311</td>\n",
       "      <td>3</td>\n",
       "      <td>B</td>\n",
       "    </tr>\n",
       "    <tr>\n",
       "      <th>13</th>\n",
       "      <td>302</td>\n",
       "      <td>3</td>\n",
       "      <td>B</td>\n",
       "    </tr>\n",
       "    <tr>\n",
       "      <th>14</th>\n",
       "      <td>373</td>\n",
       "      <td>4</td>\n",
       "      <td>A</td>\n",
       "    </tr>\n",
       "    <tr>\n",
       "      <th>15</th>\n",
       "      <td>305</td>\n",
       "      <td>3</td>\n",
       "      <td>B</td>\n",
       "    </tr>\n",
       "    <tr>\n",
       "      <th>16</th>\n",
       "      <td>371</td>\n",
       "      <td>3</td>\n",
       "      <td>A</td>\n",
       "    </tr>\n",
       "  </tbody>\n",
       "</table>\n",
       "</div>"
      ],
      "text/plain": [
       "    Weight  Colour Label\n",
       "0      303       3     B\n",
       "1      370       1     A\n",
       "2      298       3     B\n",
       "3      277       3     B\n",
       "4      377       4     A\n",
       "5      299       3     B\n",
       "6      382       1     A\n",
       "7      374       4     A\n",
       "8      303       4     B\n",
       "9      309       3     B\n",
       "10     359       1     A\n",
       "11     366       1     A\n",
       "12     311       3     B\n",
       "13     302       3     B\n",
       "14     373       4     A\n",
       "15     305       3     B\n",
       "16     371       3     A"
      ]
     },
     "execution_count": 2,
     "metadata": {},
     "output_type": "execute_result"
    }
   ],
   "source": [
    "train"
   ]
  },
  {
   "cell_type": "code",
   "execution_count": 3,
   "metadata": {},
   "outputs": [
    {
     "data": {
      "image/png": "[encoded data removed]",
      "text/plain": [
       "<matplotlib.figure.Figure at 0x16e691fcc50>"
      ]
     },
     "metadata": {},
     "output_type": "display_data"
    }
   ],
   "source": [
    "apples = train[train.Label == \"A\"]\n",
    "bananas = train[train.Label == \"B\"]\n",
    "plt.plot(apples.Weight, apples.Colour, \"ro\")\n",
    "plt.plot(bananas.Weight, bananas.Colour, \"y+\")\n",
    "plt.xlabel(\"Weight -- in grams\")\n",
    "plt.ylabel(\"Colour -- r-o-y-g-b-p\")\n",
    "plt.legend([\"Apples\", \"Bananas\"])\n",
    "plt.show()"
   ]
  },
  {
   "cell_type": "code",
   "execution_count": 4,
   "metadata": {},
   "outputs": [
    {
     "data": {
      "image/png": "[encoded data removed]",
      "text/plain": [
       "<matplotlib.figure.Figure at 0x16e6b256550>"
      ]
     },
     "metadata": {},
     "output_type": "display_data"
    }
   ],
   "source": [
    "plt.plot(apples.Weight, apples.Colour, \"ro\")\n",
    "plt.plot(bananas.Weight, bananas.Colour, \"y+\")\n",
    "plt.xlabel(\"Weight -- in grams\")\n",
    "plt.ylabel(\"Colour -- r-o-y-g-b-p\")\n",
    "plt.legend([\"Apples\", \"Bananas\"])\n",
    "plt.plot([373], [1], \"ko\")\n",
    "plt.show()\n"
   ]
  },
  {
   "cell_type": "markdown",
   "metadata": {},
   "source": [
    "From the visualization alone, we can infer that the unknown fruit is likely to be an apple. \n",
    "\n",
    "The job now is to instead of eyeballing it one at a time like above, use a kNN classifier with, say, $k = 3$ and using the *Euclidean* distance, to determine the correct label for the data in the file \"01-test1.csv\" that has 30 data points. \n",
    "\n",
    "Let us first write a distance function to calculate the *Euclidean* distance between two fruits."
   ]
  },
  {
   "cell_type": "code",
   "execution_count": 5,
   "metadata": {
    "collapsed": true
   },
   "outputs": [],
   "source": [
    "import math\n",
    "def dist(a, b):\n",
    "    sqSum = 0\n",
    "    for i in range(len(a)):\n",
    "        sqSum += (a[i] - b[i]) ** 2\n",
    "    return math.sqrt(sqSum)"
   ]
  },
  {
   "cell_type": "markdown",
   "metadata": {},
   "source": [
    "\n",
    "Now let us write code to find the $k$ nearest neighbours of a given fruit"
   ]
  },
  {
   "cell_type": "code",
   "execution_count": 6,
   "metadata": {
    "collapsed": true
   },
   "outputs": [],
   "source": [
    "def kNN(k, train, given):\n",
    "    distances = []\n",
    "    for t in train.values:              \n",
    "        # loop over all training samples\n",
    "        distances.append((dist(t[:2], given), t[2])) \n",
    "        # compute and store distances with respect to each training sample\n",
    "    distances.sort()            \n",
    "    return distances[:k]    # return first k samples = nearest  k distances to the given sample"
   ]
  },
  {
   "cell_type": "code",
   "execution_count": 7,
   "metadata": {},
   "outputs": [
    {
     "name": "stdout",
     "output_type": "stream",
     "text": [
      "[(19.0, 'A'), (26.0, 'A'), (29.068883707497267, 'B'), (30.0, 'A'), (31.064449134018133, 'A')]\n",
      "[(2.8284271247461903, 'A'), (3.0, 'A'), (3.0, 'A'), (3.1622776601683795, 'A'), (5.0, 'A')]\n"
     ]
    }
   ],
   "source": [
    "print(kNN(5, train, (340, 1)))\n",
    "print(kNN(5, train, (373, 1)))"
   ]
  },
  {
   "cell_type": "markdown",
   "metadata": {},
   "source": [
    "As you can see above, the 3 (and 5) nearest neighbours of the fruit with the characteristics (373, 1) are all Apples -- label 1; which is what we visually saw when we plotted the point as a black spot in the chart. Of course we need to write another function to get this attribute rather than read, so we have written a function for that. We have used collections.Counter, which is a very useful python library. More detail are at:\n",
    "\n",
    " * https://docs.python.org/3/library/collections.html#collections.Counter "
   ]
  },
  {
   "cell_type": "code",
   "execution_count": 8,
   "metadata": {
    "scrolled": true
   },
   "outputs": [
    {
     "name": "stdout",
     "output_type": "stream",
     "text": [
      "('A', 4)\n",
      "('A', 5)\n"
     ]
    }
   ],
   "source": [
    "import collections\n",
    "def kNNmax(k, train, given):\n",
    "    tally = collections.Counter()\n",
    "    for nn in kNN(k, train, given):\n",
    "        tally.update(nn[-1])\n",
    "    return tally.most_common(1)[0]\n",
    "print(kNNmax(5, train, (340, 1)))\n",
    "print(kNNmax(7, train, (340, 1)))"
   ]
  },
  {
   "cell_type": "markdown",
   "metadata": {},
   "source": [
    "This shows that of the five nearest neighbours to (340, 1) four are Apples and of the seven nearest, five are Apples "
   ]
  },
  {
   "cell_type": "markdown",
   "metadata": {},
   "source": [
    "Now let us load the test data and find the labels for all of them "
   ]
  },
  {
   "cell_type": "code",
   "execution_count": 10,
   "metadata": {
    "scrolled": true
   },
   "outputs": [
    {
     "name": "stdout",
     "output_type": "stream",
     "text": [
      "[318.1   3. ] B ['B']\n",
      "[293.8   3. ] B ['B']\n",
      "[277.3   2. ] B ['B']\n",
      "[324.2   4. ] B ['B']\n",
      "[327.   2.] B ['B']\n",
      "[281.5   3. ] B ['B']\n",
      "[386.8   1. ] A ['A']\n",
      "[377.8   2. ] A ['A']\n",
      "[401.1   1. ] A ['A']\n",
      "[399.5   1. ] A ['A']\n",
      "[387.3   1. ] A ['A']\n",
      "[361.9   2. ] A ['A']\n",
      "[293.6   3. ] B ['B']\n",
      "[309.1   3. ] B ['B']\n",
      "[276.2   3. ] B ['B']\n",
      "[303.3   3. ] B ['B']\n",
      "[274.6   3. ] B ['B']\n",
      "[327.2   3. ] B ['B']\n",
      "[274.   3.] B ['B']\n",
      "[269.2   3. ] B ['B']\n",
      "[265.1   3. ] B ['B']\n",
      "[300.7   3. ] B ['B']\n",
      "[282.1   3. ] B ['B']\n",
      "[274.6   3. ] B ['B']\n",
      "[357.2   4. ] A ['A']\n",
      "[405.7   4. ] A ['A']\n",
      "[377.8   4. ] A ['A']\n",
      "[401.7   4. ] A ['A']\n",
      "[342.2   4. ] A ['A']\n",
      "[397.4   4. ] A ['A']\n"
     ]
    }
   ],
   "source": [
    "testData1 = pd.read_csv('../../Datasets/01-test1.csv').values\n",
    "test1labels = pd.read_csv('../../Datasets/01-test1-labels.csv').values\n",
    "for t,t1 in zip(testData1,test1labels):\n",
    "    print(t, kNNmax(1, train, t)[0], t1)\n",
    "    \n"
   ]
  },
  {
   "cell_type": "markdown",
   "metadata": {},
   "source": [
    "Let us count how many are correct, instead of displaying the results"
   ]
  },
  {
   "cell_type": "code",
   "execution_count": 11,
   "metadata": {},
   "outputs": [
    {
     "name": "stdout",
     "output_type": "stream",
     "text": [
      "30 are correct\n"
     ]
    }
   ],
   "source": [
    "testData = pd.read_csv('../../Datasets/01-test1.csv').values\n",
    "testResults = pd.read_csv('../../Datasets/01-test1-labels.csv').values.flatten()\n",
    "results = []\n",
    "    \n",
    "for i, t in enumerate(testData):\n",
    "    results.append(kNNmax(3, train, t)[0] == testResults[i])\n",
    "\n",
    "print(results.count(True), \"are correct\")"
   ]
  },
  {
   "cell_type": "code",
   "execution_count": 12,
   "metadata": {},
   "outputs": [
    {
     "data": {
      "text/plain": [
       "30"
      ]
     },
     "execution_count": 12,
     "metadata": {},
     "output_type": "execute_result"
    }
   ],
   "source": [
    "len(testData)"
   ]
  },
  {
   "cell_type": "markdown",
   "metadata": {},
   "source": [
    "**Exercise 1** :: Find the accuracy of your prediction -- percentage of the samples that are correctly predicted."
   ]
  },
  {
   "cell_type": "code",
   "execution_count": 13,
   "metadata": {},
   "outputs": [
    {
     "name": "stdout",
     "output_type": "stream",
     "text": [
      "Accuracy is  100.0 %\n"
     ]
    }
   ],
   "source": [
    "print(\"Accuracy is \",results.count(True)/len(testData) * 100 , \"%\")"
   ]
  },
  {
   "cell_type": "markdown",
   "metadata": {},
   "source": [
    "**Exercise 2** :: Predict the labels for the larger file \"01-test2.csv\" that has 72 data points\n"
   ]
  },
  {
   "cell_type": "code",
   "execution_count": 14,
   "metadata": {},
   "outputs": [
    {
     "name": "stdout",
     "output_type": "stream",
     "text": [
      "[319.5   3. ] B\n",
      "[316.4   3. ] B\n",
      "[298.6   3. ] B\n",
      "[315.1   2. ] B\n",
      "[324.   3.] B\n",
      "[292.2   3. ] B\n",
      "[358.2   2. ] A\n",
      "[413.6   1. ] A\n",
      "[367.1   1. ] A\n",
      "[363.2   1. ] A\n",
      "[418.5   1. ] A\n",
      "[360.8   1. ] A\n",
      "[362.5   4. ] A\n",
      "[363.   4.] A\n",
      "[392.8   4. ] A\n",
      "[369.6   4. ] A\n",
      "[403.8   4. ] A\n",
      "[342.6   4. ] A\n",
      "[287.4   4. ] B\n",
      "[294.   4.] B\n",
      "[276.6   4. ] B\n",
      "[274.   4.] B\n",
      "[283.1   4. ] B\n",
      "[321.1   4. ] B\n",
      "[313.2   3. ] B\n",
      "[292.3   2. ] B\n",
      "[312.9   3. ] B\n",
      "[315.2   3. ] B\n",
      "[279.1   3. ] B\n",
      "[316.4   3. ] B\n",
      "[344.2   1. ] A\n",
      "[359.   1.] A\n",
      "[337.5   1. ] A\n",
      "[380.7   1. ] A\n",
      "[382.6   1. ] A\n",
      "[376.6   1. ] A\n",
      "[360.5   1. ] A\n",
      "[374.6   2. ] A\n",
      "[369.9   1. ] A\n",
      "[387.8   1. ] A\n",
      "[369.2   1. ] A\n",
      "[392.4   1. ] A\n",
      "[280.2   3. ] B\n",
      "[316.4   3. ] B\n",
      "[306.5   3. ] B\n",
      "[295.2   3. ] B\n",
      "[300.8   3. ] B\n",
      "[321.5   3. ] B\n",
      "[315.1   3. ] B\n",
      "[298.5   4. ] B\n",
      "[309.   2.] B\n",
      "[304.9   3. ] B\n",
      "[297.7   3. ] B\n",
      "[330.5   2. ] B\n",
      "[375.1   4. ] A\n",
      "[395.9   4. ] A\n",
      "[362.6   4. ] A\n",
      "[393.4   4. ] A\n",
      "[373.4   4. ] A\n",
      "[400.1   3. ] A\n",
      "[315.3   3. ] B\n",
      "[309.   3.] B\n",
      "[297.9   3. ] B\n",
      "[311.5   3. ] B\n",
      "[301.7   3. ] B\n",
      "[331.9   3. ] B\n",
      "[386.4   3. ] A\n",
      "[377.5   3. ] A\n",
      "[384.1   3. ] A\n",
      "[392.   3.] A\n",
      "[376.2   3. ] A\n",
      "[369.8   3. ] A\n"
     ]
    }
   ],
   "source": [
    "testData2 = pd.read_csv('../../Datasets/01-test2.csv').values\n",
    "for t in testData2:\n",
    "    print(t,kNNmax(3,train,t)[0])\n"
   ]
  },
  {
   "cell_type": "markdown",
   "metadata": {},
   "source": [
    "**Exercise 3** :: Find the accuracy of the prediction by comparing with \"01-test2-labelled.csv\" "
   ]
  },
  {
   "cell_type": "code",
   "execution_count": 15,
   "metadata": {},
   "outputs": [
    {
     "name": "stdout",
     "output_type": "stream",
     "text": [
      "72  are correct\n",
      "Accuracy is  100.0  %\n"
     ]
    }
   ],
   "source": [
    "testResults2 = pd.read_csv('../../Datasets/01-test2-labels.csv').values.flatten()\n",
    "results2 = []\n",
    "for i,t in enumerate(testData2):\n",
    "    results2.append(kNNmax(3,train,t)[0] == testResults2[i])\n",
    "print(results2.count(True), \" are correct\")\n",
    "print(\"Accuracy is \",results2.count(True)/len(testData2)*100, \" %\")"
   ]
  },
  {
   "cell_type": "markdown",
   "metadata": {},
   "source": [
    "**Exercise 4** :: Repeat the above experiment with $k = 5$ and $k = 7$. Explain which $k$ is better and why?\n",
    "\n",
    "**Exercise 5** :: Repeat the above experiment with $k = 17$. What do you think is happening?\n"
   ]
  },
  {
   "cell_type": "code",
   "execution_count": 16,
   "metadata": {
    "scrolled": true
   },
   "outputs": [
    {
     "name": "stdout",
     "output_type": "stream",
     "text": [
      "72  are correct\n",
      "Accuracy is  100.0  %\n",
      "72  are correct\n",
      "Accuracy is  100.0  %\n",
      "36  are correct\n",
      "Accuracy is  50.0  %\n"
     ]
    }
   ],
   "source": [
    "def accuracy(train,test,testResults,k):\n",
    "    results = []\n",
    "    for i,t in enumerate(test):\n",
    "        results.append(kNNmax(k,train,t)[0] == testResults[i])\n",
    "        \n",
    "    print(results.count(True), \" are correct\")\n",
    "    print(\"Accuracy is \",results.count(True)/len(test)*100, \" %\")\n",
    "    \n",
    "    \n",
    "accuracy(train,testData2,testResults2,5)\n",
    "accuracy(train,testData2,testResults2,7)\n",
    "accuracy(train,testData2,testResults2,17)"
   ]
  },
  {
   "cell_type": "markdown",
   "metadata": {},
   "source": [
    "**Exercise 6** :: If the weights are in Kgs, that is divide all of the data in weights column by 1000, what is the accuracy for $k = 3$\n"
   ]
  },
  {
   "cell_type": "code",
   "execution_count": 18,
   "metadata": {},
   "outputs": [],
   "source": [
    "TraininKG = pd.read_csv(\"../../Datasets/01-train.csv\")\n",
    "TraininKG['Weight'] = TraininKG['Weight']/1000\n",
    "TestData2inKG = pd.read_csv('../../Datasets/01-test2.csv')\n",
    "TestData2inKG['Weight'] = TestData2inKG['Weight']/1000\n",
    "TestData2inKG = TestData2inKG.values"
   ]
  },
  {
   "cell_type": "code",
   "execution_count": 19,
   "metadata": {},
   "outputs": [
    {
     "name": "stdout",
     "output_type": "stream",
     "text": [
      "58  are correct\n",
      "Accuracy is  80.55555555555556  %\n"
     ]
    }
   ],
   "source": [
    "accuracy(TraininKG,TestData2inKG,testResults2,3)"
   ]
  },
  {
   "cell_type": "code",
   "execution_count": 20,
   "metadata": {
    "collapsed": true
   },
   "outputs": [],
   "source": [
    "### Calculation of weight can be done using pandas converts function\n",
    "\n",
    "def convert_weight(weight):\n",
    "    return int(weight)/1000\n",
    "\n",
    "def convert_weights(weight):\n",
    "    return float(weight)/1000\n",
    "\n",
    "Traininkgs = pd.read_csv(\"../../Datasets/01-train.csv\", converters={\"Weight\":convert_weight})\n",
    "Testdata2inkgs = pd.read_csv(\"../../Datasets/01-test2.csv\", converters={\"Weight\":convert_weights})"
   ]
  },
  {
   "cell_type": "markdown",
   "metadata": {},
   "source": [
    "**Exercise 7** :: Modify the distance function to ignore the colour feature. Calculate the accuracy on \"01-test1.csv\"\n"
   ]
  },
  {
   "cell_type": "code",
   "execution_count": 21,
   "metadata": {
    "collapsed": true
   },
   "outputs": [],
   "source": [
    "import math\n",
    "def dist(a, b):\n",
    "    sqSum = 0\n",
    "    for i in range(len(a)-1):\n",
    "        sqSum += (a[i] - b[i]) ** 2\n",
    "    return math.sqrt(sqSum)"
   ]
  },
  {
   "cell_type": "code",
   "execution_count": 22,
   "metadata": {},
   "outputs": [
    {
     "name": "stdout",
     "output_type": "stream",
     "text": [
      "30 are correct\n"
     ]
    }
   ],
   "source": [
    "testData = pd.read_csv('../../Datasets/01-test1.csv').values\n",
    "testResults = pd.read_csv('../../Datasets/01-test1-labels.csv').values.flatten()\n",
    "results = []\n",
    "    \n",
    "for i, t in enumerate(testData):\n",
    "    results.append(kNNmax(3, train, t)[0] == testResults[i])\n",
    "\n",
    "print(results.count(True), \"are correct\")"
   ]
  },
  {
   "cell_type": "code",
   "execution_count": 23,
   "metadata": {},
   "outputs": [
    {
     "data": {
      "text/plain": [
       "100.0"
      ]
     },
     "execution_count": 23,
     "metadata": {},
     "output_type": "execute_result"
    }
   ],
   "source": [
    "results.count(True)/len(testData) * 100"
   ]
  },
  {
   "cell_type": "markdown",
   "metadata": {},
   "source": [
    "#### Result: Accuracy is 100% for all test data"
   ]
  },
  {
   "cell_type": "markdown",
   "metadata": {},
   "source": [
    "**Exercise 8** :: If we used the square of the Euclidean distance, for the distance function does it affect the accuracy?"
   ]
  },
  {
   "cell_type": "code",
   "execution_count": 24,
   "metadata": {
    "collapsed": true
   },
   "outputs": [],
   "source": [
    "import math\n",
    "def dist(a, b):\n",
    "    sqSum = 0\n",
    "    for i in range(len(a)-1):\n",
    "        sqSum += (a[i] - b[i]) ** 2\n",
    "    return sqSum"
   ]
  },
  {
   "cell_type": "code",
   "execution_count": 25,
   "metadata": {},
   "outputs": [
    {
     "name": "stdout",
     "output_type": "stream",
     "text": [
      "30 are correct\n"
     ]
    }
   ],
   "source": [
    "testData = pd.read_csv('../../Datasets/01-test1.csv').values\n",
    "testResults = pd.read_csv('../../Datasets/01-test1-labels.csv').values.flatten()\n",
    "results = []\n",
    "    \n",
    "for i, t in enumerate(testData):\n",
    "    results.append(kNNmax(3, train, t)[0] == testResults[i])\n",
    "\n",
    "print(results.count(True), \"are correct\")"
   ]
  },
  {
   "cell_type": "code",
   "execution_count": 26,
   "metadata": {},
   "outputs": [
    {
     "data": {
      "text/plain": [
       "100.0"
      ]
     },
     "execution_count": 26,
     "metadata": {},
     "output_type": "execute_result"
    }
   ],
   "source": [
    "results.count(True)/len(testData) * 100"
   ]
  },
  {
   "cell_type": "markdown",
   "metadata": {},
   "source": [
    "#### Result : No effect"
   ]
  },
  {
   "cell_type": "markdown",
   "metadata": {},
   "source": [
    "**Exercise 9** :: If we use the sum of the absolute differences, as the distance metric instead of the Euclidean, how does that affect the accuracy?\n",
    "\n",
    "**Result:** Slight change in Accuracy if color feature is included in dist function"
   ]
  },
  {
   "cell_type": "markdown",
   "metadata": {},
   "source": [
    "## Acknowledgment\n",
    "This experiment is based on the blog post http://www.jiaaro.com/KNN-for-humans. "
   ]
  },
  {
   "cell_type": "markdown",
   "metadata": {},
   "source": [
    "## Summary\n",
    "In the above experiment, we find that a simple nearest neighbour method can successfully predict labels with a small number of labelled examples. But we also see that the results can go really wrong if we make some wrong choices (like weight in Kg, or a very large K). This should remind you about the practical expertise and experimental skills that will become equally important as we move forward."
   ]
  }
 ],
 "metadata": {
  "kernelspec": {
   "display_name": "Python 3",
   "language": "python",
   "name": "python3"
  },
  "language_info": {
   "codemirror_mode": {
    "name": "ipython",
    "version": 3
   },
   "file_extension": ".py",
   "mimetype": "text/x-python",
   "name": "python",
   "nbconvert_exporter": "python",
   "pygments_lexer": "ipython3",
   "version": "3.6.3"
  }
 },
 "nbformat": 4,
 "nbformat_minor": 2
}
