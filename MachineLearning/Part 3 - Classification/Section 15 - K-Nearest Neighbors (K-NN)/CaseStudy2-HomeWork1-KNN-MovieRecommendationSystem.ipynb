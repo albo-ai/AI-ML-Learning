{
 "cells": [
  {
   "cell_type": "markdown",
   "metadata": {},
   "source": [
    "# Session 1\n",
    "## Case Study 2\n",
    "### Homework"
   ]
  },
  {
   "cell_type": "markdown",
   "metadata": {},
   "source": [
    "### Data Source\n",
    "\n",
    "* movie-train.csv\n",
    "\n",
    "* movie-test.csv\n",
    "\n",
    "These have been taken (and modified) from:\n",
    "http://kevinmolloy.info/teaching/cs504_2017Fall/\n",
    "\n",
    "This is a small subset of the original movielens dataset.\n",
    "https://grouplens.org/datasets/movielens/\n",
    "\n",
    "\n",
    "#### Objective\n",
    "To use kNN as a kind of a recommendation/prediction for movies.\n",
    "\n",
    "#### Datasets\n",
    "\n",
    "As discussed in class, you will build your model using the training data. To test your model, you will calculate predictions for each entry in the test set (a userID/movieID pair), and since you know the real rating, you can compute the difference between the two, and determine how well your method performs, as an additional exercise. In this exercise we only consider if a user has seen or not seen -- irrespective of the rating. \n",
    "\n",
    "In other words if a userId, movieId, rating line exists, then the user has seen that movie. \n",
    "\n",
    "\n",
    "### Description\n",
    "\n",
    "Consider the problem of recommending movies to users. We have M Users and N Movies. \n",
    "Now, we want to predict whether a given test user $x$ will watch movie $y$.\n",
    "\n",
    "User $x$ has seen and not seen few movies in the past. We will use $x$'s movie watching history as a feature for our recommendation system.\n",
    "\n",
    "We will use KNN to find the K nearest neighbour users (users with similar taste) to $x$, and make predictions based on their entries for movie $y$.\n",
    "\n",
    "A user either had seen the movie (1) or not seen the movie (0). We can represent this as a matrix of size M×N. (M rows and N columns). We have actually used a dictionary with the keys userId and movieId to represent this matrix.\n",
    "\n",
    "Each element of the matrix is either zero or one. If (u, m) entry in this matrix is 1, then the $u^{th}$ user has seen the movie $m$.\n",
    "#### Training set\n",
    "M×N binary matrix indicating seen/not-seen.\n",
    "#### Test set: \n",
    "L test cases with $(x, y)$ pairs. $x$ is N-dimensional binary vector with missing $y^{th}$ entry - which we want to predict.\n",
    "\n",
    "Now, we want to predict whether a given test user x will watch movie y.\n",
    "\n",
    "User x has seen and not seen few movies in the past. We will use x's movie watching history as feature for our recommendation system.\n",
    "**Exercise 1** :: Write a function to compute euclidean distance between two users for all entries except the missing $y^{th}$ entry.\n",
    "\n",
    "We will use KNN to find the K nearest neighbour users (users with similar taste) to x, and make predictions based on their entries for movie y.\n",
    "\n",
    "We have given the code for Cosine distance, when computing nearest neighbours."
   ]
  },
  {
   "cell_type": "code",
   "execution_count": 1,
   "metadata": {},
   "outputs": [
    {
     "data": {
      "text/html": [
       "<div>\n",
       "<style>\n",
       "    .dataframe thead tr:only-child th {\n",
       "        text-align: right;\n",
       "    }\n",
       "\n",
       "    .dataframe thead th {\n",
       "        text-align: left;\n",
       "    }\n",
       "\n",
       "    .dataframe tbody tr th {\n",
       "        vertical-align: top;\n",
       "    }\n",
       "</style>\n",
       "<table border=\"1\" class=\"dataframe\">\n",
       "  <thead>\n",
       "    <tr style=\"text-align: right;\">\n",
       "      <th></th>\n",
       "      <th>userId</th>\n",
       "      <th>movieId</th>\n",
       "      <th>rating</th>\n",
       "    </tr>\n",
       "  </thead>\n",
       "  <tbody>\n",
       "    <tr>\n",
       "      <th>count</th>\n",
       "      <td>80045.000000</td>\n",
       "      <td>80045.000000</td>\n",
       "      <td>80045.000000</td>\n",
       "    </tr>\n",
       "    <tr>\n",
       "      <th>mean</th>\n",
       "      <td>345.401574</td>\n",
       "      <td>1654.711850</td>\n",
       "      <td>3.544594</td>\n",
       "    </tr>\n",
       "    <tr>\n",
       "      <th>std</th>\n",
       "      <td>195.180637</td>\n",
       "      <td>1887.186635</td>\n",
       "      <td>1.058349</td>\n",
       "    </tr>\n",
       "    <tr>\n",
       "      <th>min</th>\n",
       "      <td>0.000000</td>\n",
       "      <td>0.000000</td>\n",
       "      <td>0.500000</td>\n",
       "    </tr>\n",
       "    <tr>\n",
       "      <th>25%</th>\n",
       "      <td>179.000000</td>\n",
       "      <td>327.000000</td>\n",
       "      <td>3.000000</td>\n",
       "    </tr>\n",
       "    <tr>\n",
       "      <th>50%</th>\n",
       "      <td>363.000000</td>\n",
       "      <td>870.000000</td>\n",
       "      <td>4.000000</td>\n",
       "    </tr>\n",
       "    <tr>\n",
       "      <th>75%</th>\n",
       "      <td>518.000000</td>\n",
       "      <td>2337.000000</td>\n",
       "      <td>4.000000</td>\n",
       "    </tr>\n",
       "    <tr>\n",
       "      <th>max</th>\n",
       "      <td>670.000000</td>\n",
       "      <td>9065.000000</td>\n",
       "      <td>5.000000</td>\n",
       "    </tr>\n",
       "  </tbody>\n",
       "</table>\n",
       "</div>"
      ],
      "text/plain": [
       "             userId       movieId        rating\n",
       "count  80045.000000  80045.000000  80045.000000\n",
       "mean     345.401574   1654.711850      3.544594\n",
       "std      195.180637   1887.186635      1.058349\n",
       "min        0.000000      0.000000      0.500000\n",
       "25%      179.000000    327.000000      3.000000\n",
       "50%      363.000000    870.000000      4.000000\n",
       "75%      518.000000   2337.000000      4.000000\n",
       "max      670.000000   9065.000000      5.000000"
      ]
     },
     "execution_count": 1,
     "metadata": {},
     "output_type": "execute_result"
    }
   ],
   "source": [
    "import pandas as pd\n",
    "rated = pd.read_csv(\"../../Datasets/movie-train.csv\", converters={\"userId\":int, \"movieId\":int})\n",
    "rated.describe()"
   ]
  },
  {
   "cell_type": "code",
   "execution_count": 2,
   "metadata": {
    "collapsed": true
   },
   "outputs": [],
   "source": [
    "userCount = max(rated.userId)\n",
    "movieCount = max(rated.movieId)\n"
   ]
  },
  {
   "cell_type": "code",
   "execution_count": 3,
   "metadata": {
    "collapsed": true
   },
   "outputs": [],
   "source": [
    "seen = {}\n",
    "for x in rated.values:\n",
    "    seen[(int(x[0]), int(x[1]))] = 1"
   ]
  },
  {
   "cell_type": "code",
   "execution_count": 4,
   "metadata": {
    "collapsed": true
   },
   "outputs": [],
   "source": [
    "allUsersMovies = [(u,m) for u in range(userCount) for m in range(movieCount)]"
   ]
  },
  {
   "cell_type": "code",
   "execution_count": 5,
   "metadata": {
    "collapsed": true
   },
   "outputs": [],
   "source": [
    "for x in allUsersMovies:\n",
    "    if x not in seen:\n",
    "        seen[x] = 0"
   ]
  },
  {
   "cell_type": "markdown",
   "metadata": {},
   "source": [
    "Now we have the data loaded into a dictionary, let us recast the distance function to use it. Given two users, $u_1$ and $u_2$, for a movie $m$, we must ignore the entries for $m$ for every other user while computing distance"
   ]
  },
  {
   "cell_type": "code",
   "execution_count": 6,
   "metadata": {
    "collapsed": true
   },
   "outputs": [],
   "source": [
    "import math\n",
    "userCount = max(rated.userId)\n",
    "movieCount = max(rated.movieId)\n",
    "seen = {} #dict\n",
    "for x in rated.values:\n",
    "    seen[(int(x[0]), int(x[1]))] = 1\n",
    "for x in allUsersMovies:\n",
    "    if x not in seen:\n",
    "        seen[x] = 0\n",
    "\n",
    "# This is actually the cosine distance\n",
    "def distance(u1, u2, mx):\n",
    "    d = 0 - seen[(u1, mx)] * seen[(u2, mx)]\n",
    "    for m in range(movieCount):\n",
    "        d += seen[(u1, m)] * seen[(u2, m)]\n",
    "    return d\n",
    "\n",
    "\n",
    "def kNN(k, givenUser, givenMovie):\n",
    "    distances = []\n",
    "    for u in range(userCount):\n",
    "        if u != givenUser:\n",
    "            distances.append([distance(u, givenUser, givenMovie), u])\n",
    "    distances.sort()\n",
    "   # print(distances)\n",
    "    distances.reverse() ## Because cosine distances mean higher = closer\n",
    "    return distances[:k] ##list\n",
    "    #return min(distances)\n",
    "\n",
    "def prediction(k, givenUser, givenMovie):\n",
    "    neighbours = kNN(k, givenUser, givenMovie)\n",
    "    howmanySaw = sum([seen[(u, givenMovie)] for d, u in neighbours])\n",
    "    print(howmanySaw)\n",
    "    return 2 * howmanySaw > k"
   ]
  },
  {
   "cell_type": "code",
   "execution_count": 7,
   "metadata": {},
   "outputs": [
    {
     "name": "stdout",
     "output_type": "stream",
     "text": [
      "3\n"
     ]
    },
    {
     "data": {
      "text/plain": [
       "True"
      ]
     },
     "execution_count": 7,
     "metadata": {},
     "output_type": "execute_result"
    }
   ],
   "source": [
    "prediction(4,3,101)"
   ]
  },
  {
   "cell_type": "markdown",
   "metadata": {},
   "source": [
    "**Exercise 1** :: Verify the above code and check if it works"
   ]
  },
  {
   "cell_type": "markdown",
   "metadata": {},
   "source": [
    "**Exercise 2** :: Change the distance function to compute Euclidean, and see if the prediction changes. Remember to modify the kNN function to pick the smallest distances: do not reverse()!"
   ]
  },
  {
   "cell_type": "code",
   "execution_count": 8,
   "metadata": {
    "collapsed": true
   },
   "outputs": [],
   "source": [
    "import math\n",
    "userCount = max(rated.userId)\n",
    "movieCount = max(rated.movieId)\n",
    "seen = {} #dict\n",
    "for x in rated.values:\n",
    "    seen[(int(x[0]), int(x[1]))] = 1\n",
    "for x in allUsersMovies:\n",
    "    if x not in seen:\n",
    "        seen[x] = 0\n",
    "\n",
    "# Euclidean distancevenUser, givenMovie)\n",
    "\n",
    "def distance(u1,u2,mx):\n",
    "    sqSum = 0\n",
    "    for m in range(movieCount):\n",
    "        sqSum += (seen[(u1, m)] - seen[(u2, m)]) ** 2\n",
    "    return math.sqrt(sqSum)\n",
    "\n",
    "def kNN(k, givenUser, givenMovie):\n",
    "    distances = []\n",
    "    for u in range(userCount):\n",
    "        if u != givenUser:\n",
    "            distances.append([distance(u, givenUser, givenMovie), u])\n",
    "    distances.sort()\n",
    "   # print(distances)\n",
    "    #distances.reverse() ## Because cosine distances mean higher = closer\n",
    "    return distances[:k] ##list\n",
    "    #return min(distances)\n",
    "\n",
    "def prediction(k, givenUser, givenMovie):\n",
    "    neighbours = kNN(k, givenUser, givenMovie)\n",
    "    howmanySaw = sum([seen[(u, givenMovie)] for d, u in neighbours])\n",
    "    print(howmanySaw)\n",
    "    return 2 * howmanySaw > k"
   ]
  },
  {
   "cell_type": "code",
   "execution_count": 9,
   "metadata": {},
   "outputs": [
    {
     "name": "stdout",
     "output_type": "stream",
     "text": [
      "0\n"
     ]
    },
    {
     "data": {
      "text/plain": [
       "False"
      ]
     },
     "execution_count": 9,
     "metadata": {},
     "output_type": "execute_result"
    }
   ],
   "source": [
    "prediction(4,2,102)"
   ]
  },
  {
   "cell_type": "markdown",
   "metadata": {},
   "source": [
    "**Exercise 3** :: Change the distance function to compute Manhattan, and see if the prediction changes. Remember to modify the kNN function to pick the smallest distances: do not reverse()!"
   ]
  },
  {
   "cell_type": "code",
   "execution_count": 10,
   "metadata": {
    "collapsed": true
   },
   "outputs": [],
   "source": [
    "import math\n",
    "userCount = max(rated.userId)\n",
    "movieCount = max(rated.movieId)\n",
    "seen = {} #dict\n",
    "for x in rated.values:\n",
    "    seen[(int(x[0]), int(x[1]))] = 1\n",
    "for x in allUsersMovies:\n",
    "    if x not in seen:\n",
    "        seen[x] = 0\n",
    "# Manhattan distance \n",
    "\n",
    "def distance(u1,u2,mx):\n",
    "    sqSum = 0\n",
    "    for m in range(movieCount):\n",
    "        sqSum += abs(seen[(u1, m)] - seen[(u2, m)])\n",
    "    return sqSum\n",
    "\n",
    "\n",
    "def kNN(k, givenUser, givenMovie):\n",
    "    distances = []\n",
    "    for u in range(userCount):\n",
    "        if u != givenUser:\n",
    "            distances.append([distance(u, givenUser, givenMovie), u])\n",
    "    distances.sort()\n",
    "   # print(distances)\n",
    "    #distances.reverse() ## Because cosine distances mean higher = closer\n",
    "    return distances[:k] ##list\n",
    "    #return min(distances)\n",
    "\n",
    "def prediction(k, givenUser, givenMovie):\n",
    "    neighbours = kNN(k, givenUser, givenMovie)\n",
    "    howmanySaw = sum([seen[(u, givenMovie)] for d, u in neighbours])\n",
    "    print(howmanySaw)\n",
    "    return 2 * howmanySaw > k"
   ]
  },
  {
   "cell_type": "code",
   "execution_count": 11,
   "metadata": {},
   "outputs": [
    {
     "name": "stdout",
     "output_type": "stream",
     "text": [
      "0\n"
     ]
    },
    {
     "data": {
      "text/plain": [
       "False"
      ]
     },
     "execution_count": 11,
     "metadata": {},
     "output_type": "execute_result"
    }
   ],
   "source": [
    "prediction(4,3,101)"
   ]
  },
  {
   "cell_type": "code",
   "execution_count": null,
   "metadata": {
    "collapsed": true
   },
   "outputs": [],
   "source": []
  }
 ],
 "metadata": {
  "kernelspec": {
   "display_name": "Python 3",
   "language": "python",
   "name": "python3"
  },
  "language_info": {
   "codemirror_mode": {
    "name": "ipython",
    "version": 3
   },
   "file_extension": ".py",
   "mimetype": "text/x-python",
   "name": "python",
   "nbconvert_exporter": "python",
   "pygments_lexer": "ipython3",
   "version": "3.6.3"
  }
 },
 "nbformat": 4,
 "nbformat_minor": 2
}
