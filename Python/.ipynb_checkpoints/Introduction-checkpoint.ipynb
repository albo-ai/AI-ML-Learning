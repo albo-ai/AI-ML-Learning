{
 "cells": [
  {
   "cell_type": "markdown",
   "metadata": {},
   "source": [
    "Python is free and open source, available for all operating systems from https://www.python.org\n",
    "\n",
    "Check this for Introduction and few resources : https://www.commonlounge.com/discussion/a6d72f47036c47ceb64852bcb266b62d\n",
    "\n",
    "To run the Python interpreter interactively, just type <i>python</i> in the terminal. On Windows, use Ctrl-Z to exit (on all other operating systems it's Ctrl-D to exit)."
   ]
  },
  {
   "cell_type": "markdown",
   "metadata": {},
   "source": [
    "### Introduction :\n",
    "\n",
    "Python is a __dynamic, interpreted__ (bytecode-compiled) language. \n",
    "\n",
    "There are no type declarations of variables, parameters, functions, or methods in source code. This makes the code short and flexible, and you lose the compile-time type checking of the source code. Python tracks the types of all values at runtime and flags code that does not make sense as it runs.\n",
    "\n",
    "* Like C++ and Java, Python is case sensitive so \"a\" and \"A\" are different variables. \n",
    "* The end of a line marks the end of a statement, so unlike C++ and Java, Python does not require a semicolon at the end of each statement. \n",
    "* Comments begin with a '#' and extend to the end of the line.\n",
    "\n",
    "Simple hello.py program :\n",
    "\n"
   ]
  },
  {
   "cell_type": "raw",
   "metadata": {},
   "source": [
    "#!/usr/bin/env python\n",
    "\n",
    "# import modules used here -- sys is a very standard one\n",
    "import sys\n",
    "\n",
    "# Gather our code in a main() function\n",
    "def main():\n",
    "\n",
    "    print 'Hello there', sys.argv[1]\n",
    "    # Command line args are in sys.argv[1], sys.argv[2] ...\n",
    "    # sys.argv[0] is the script name itself and can be ignored\n",
    "\n",
    " \n",
    "# Standard boilerplate to call the main() function to begin the program.\n",
    "\n",
    "if __name__ == '__main__':\n",
    "    main()"
   ]
  },
  {
   "cell_type": "markdown",
   "metadata": {},
   "source": [
    "A Python module can be run directly : like \"python hello.py Raghu\" (or) it can be imported and used by some other module. \n",
    "\n",
    "When a Python file is run directly, the special variable \"\\_\\_name\\_\\_\" is set to \"\\_\\_main\\_\\_\". Therefore, it's common to have the boilerplate if \\_\\_name\\_\\_ ==... shown above to call a main() function when the module is run directly, but not when the module is imported by some other module.\n",
    "\n",
    "* In a standard Python program, the list __sys.argv__ contains the command-line arguments in the standard way with sys.argv[0] being the program itself, sys.argv[1] the first argument, and so on.\n",
    "* __argc__, or the number of arguments, you can simply request this value from Python with __len(sys.argv)__\n",
    "* __len()__ can tell you how long a string is, the number of elements in lists and tuples (another array-like data structure), and the number of key-value pairs in a dictionary."
   ]
  },
  {
   "cell_type": "markdown",
   "metadata": {},
   "source": [
    "#### History of Python\n",
    "\n",
    "Python was conceptualized in the late 1980s. Guido van Rossum worked that time in a project at the CWI(Centrum Wiskunde & Informatica), called Amoeba, a distributed operating system.\n",
    "\n"
   ]
  },
  {
   "cell_type": "code",
   "execution_count": null,
   "metadata": {
    "collapsed": true
   },
   "outputs": [],
   "source": []
  }
 ],
 "metadata": {
  "kernelspec": {
   "display_name": "Python 3",
   "language": "python",
   "name": "python3"
  },
  "language_info": {
   "codemirror_mode": {
    "name": "ipython",
    "version": 3
   },
   "file_extension": ".py",
   "mimetype": "text/x-python",
   "name": "python",
   "nbconvert_exporter": "python",
   "pygments_lexer": "ipython3",
   "version": "3.6.3"
  }
 },
 "nbformat": 4,
 "nbformat_minor": 2
}
